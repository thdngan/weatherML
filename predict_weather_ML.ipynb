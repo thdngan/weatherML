{
 "cells": [
  {
   "cell_type": "code",
   "execution_count": 1,
   "id": "b109ecf2-b3e4-455e-a7cc-cb7d424c47fe",
   "metadata": {},
   "outputs": [],
   "source": [
    "#Reading the data into pandas"
   ]
  },
  {
   "cell_type": "code",
   "execution_count": 2,
   "id": "632015aa",
   "metadata": {},
   "outputs": [],
   "source": [
    "import pandas as pd    "
   ]
  },
  {
   "cell_type": "code",
   "execution_count": 3,
   "id": "508afbf9-0ed9-457f-a440-3db3cdbdbe16",
   "metadata": {},
   "outputs": [],
   "source": [
    "weather = pd.read_csv(\"hanoi_1982-02-11_2022-10-30.csv\", index_col=\"DATE\") #setting the DATE column as index column"
   ]
  },
  {
   "cell_type": "code",
   "execution_count": 4,
   "id": "8e275c9b-bdb1-4d9e-894e-62dabdb5f5fd",
   "metadata": {},
   "outputs": [
    {
     "data": {
      "text/html": [
       "<div>\n",
       "<style scoped>\n",
       "    .dataframe tbody tr th:only-of-type {\n",
       "        vertical-align: middle;\n",
       "    }\n",
       "\n",
       "    .dataframe tbody tr th {\n",
       "        vertical-align: top;\n",
       "    }\n",
       "\n",
       "    .dataframe thead th {\n",
       "        text-align: right;\n",
       "    }\n",
       "</style>\n",
       "<table border=\"1\" class=\"dataframe\">\n",
       "  <thead>\n",
       "    <tr style=\"text-align: right;\">\n",
       "      <th></th>\n",
       "      <th>STATION</th>\n",
       "      <th>NAME</th>\n",
       "      <th>PRCP</th>\n",
       "      <th>TAVG</th>\n",
       "      <th>TMAX</th>\n",
       "      <th>TMIN</th>\n",
       "    </tr>\n",
       "    <tr>\n",
       "      <th>DATE</th>\n",
       "      <th></th>\n",
       "      <th></th>\n",
       "      <th></th>\n",
       "      <th></th>\n",
       "      <th></th>\n",
       "      <th></th>\n",
       "    </tr>\n",
       "  </thead>\n",
       "  <tbody>\n",
       "    <tr>\n",
       "      <th>1982-02-11</th>\n",
       "      <td>VMM00048820</td>\n",
       "      <td>NOIBAI INTERNATIONAL, VM</td>\n",
       "      <td>0.0</td>\n",
       "      <td>12.2</td>\n",
       "      <td>15.1</td>\n",
       "      <td>NaN</td>\n",
       "    </tr>\n",
       "    <tr>\n",
       "      <th>1982-02-12</th>\n",
       "      <td>VMM00048820</td>\n",
       "      <td>NOIBAI INTERNATIONAL, VM</td>\n",
       "      <td>NaN</td>\n",
       "      <td>13.1</td>\n",
       "      <td>14.1</td>\n",
       "      <td>NaN</td>\n",
       "    </tr>\n",
       "    <tr>\n",
       "      <th>1982-02-13</th>\n",
       "      <td>VMM00048820</td>\n",
       "      <td>NOIBAI INTERNATIONAL, VM</td>\n",
       "      <td>0.0</td>\n",
       "      <td>12.4</td>\n",
       "      <td>13.8</td>\n",
       "      <td>NaN</td>\n",
       "    </tr>\n",
       "    <tr>\n",
       "      <th>1982-02-14</th>\n",
       "      <td>VMM00048820</td>\n",
       "      <td>NOIBAI INTERNATIONAL, VM</td>\n",
       "      <td>0.0</td>\n",
       "      <td>13.4</td>\n",
       "      <td>15.8</td>\n",
       "      <td>NaN</td>\n",
       "    </tr>\n",
       "    <tr>\n",
       "      <th>1982-02-16</th>\n",
       "      <td>VMM00048820</td>\n",
       "      <td>NOIBAI INTERNATIONAL, VM</td>\n",
       "      <td>0.0</td>\n",
       "      <td>13.6</td>\n",
       "      <td>15.5</td>\n",
       "      <td>10.2</td>\n",
       "    </tr>\n",
       "    <tr>\n",
       "      <th>...</th>\n",
       "      <td>...</td>\n",
       "      <td>...</td>\n",
       "      <td>...</td>\n",
       "      <td>...</td>\n",
       "      <td>...</td>\n",
       "      <td>...</td>\n",
       "    </tr>\n",
       "    <tr>\n",
       "      <th>2022-10-26</th>\n",
       "      <td>VMM00048825</td>\n",
       "      <td>HA DONG, VM</td>\n",
       "      <td>0.0</td>\n",
       "      <td>25.4</td>\n",
       "      <td>NaN</td>\n",
       "      <td>23.0</td>\n",
       "    </tr>\n",
       "    <tr>\n",
       "      <th>2022-10-27</th>\n",
       "      <td>VMM00048825</td>\n",
       "      <td>HA DONG, VM</td>\n",
       "      <td>NaN</td>\n",
       "      <td>26.1</td>\n",
       "      <td>NaN</td>\n",
       "      <td>NaN</td>\n",
       "    </tr>\n",
       "    <tr>\n",
       "      <th>2022-10-28</th>\n",
       "      <td>VMM00048825</td>\n",
       "      <td>HA DONG, VM</td>\n",
       "      <td>NaN</td>\n",
       "      <td>26.3</td>\n",
       "      <td>NaN</td>\n",
       "      <td>NaN</td>\n",
       "    </tr>\n",
       "    <tr>\n",
       "      <th>2022-10-29</th>\n",
       "      <td>VMM00048825</td>\n",
       "      <td>HA DONG, VM</td>\n",
       "      <td>0.5</td>\n",
       "      <td>25.8</td>\n",
       "      <td>NaN</td>\n",
       "      <td>22.1</td>\n",
       "    </tr>\n",
       "    <tr>\n",
       "      <th>2022-10-30</th>\n",
       "      <td>VMM00048825</td>\n",
       "      <td>HA DONG, VM</td>\n",
       "      <td>0.0</td>\n",
       "      <td>26.4</td>\n",
       "      <td>NaN</td>\n",
       "      <td>22.7</td>\n",
       "    </tr>\n",
       "  </tbody>\n",
       "</table>\n",
       "<p>18299 rows × 6 columns</p>\n",
       "</div>"
      ],
      "text/plain": [
       "                STATION                      NAME  PRCP  TAVG  TMAX  TMIN\n",
       "DATE                                                                     \n",
       "1982-02-11  VMM00048820  NOIBAI INTERNATIONAL, VM   0.0  12.2  15.1   NaN\n",
       "1982-02-12  VMM00048820  NOIBAI INTERNATIONAL, VM   NaN  13.1  14.1   NaN\n",
       "1982-02-13  VMM00048820  NOIBAI INTERNATIONAL, VM   0.0  12.4  13.8   NaN\n",
       "1982-02-14  VMM00048820  NOIBAI INTERNATIONAL, VM   0.0  13.4  15.8   NaN\n",
       "1982-02-16  VMM00048820  NOIBAI INTERNATIONAL, VM   0.0  13.6  15.5  10.2\n",
       "...                 ...                       ...   ...   ...   ...   ...\n",
       "2022-10-26  VMM00048825               HA DONG, VM   0.0  25.4   NaN  23.0\n",
       "2022-10-27  VMM00048825               HA DONG, VM   NaN  26.1   NaN   NaN\n",
       "2022-10-28  VMM00048825               HA DONG, VM   NaN  26.3   NaN   NaN\n",
       "2022-10-29  VMM00048825               HA DONG, VM   0.5  25.8   NaN  22.1\n",
       "2022-10-30  VMM00048825               HA DONG, VM   0.0  26.4   NaN  22.7\n",
       "\n",
       "[18299 rows x 6 columns]"
      ]
     },
     "execution_count": 4,
     "metadata": {},
     "output_type": "execute_result"
    }
   ],
   "source": [
    "weather"
   ]
  },
  {
   "cell_type": "code",
   "execution_count": 111,
   "id": "fbb2770f-f9e6-46e7-b79f-be0a306c0235",
   "metadata": {},
   "outputs": [],
   "source": [
    "weather.TMAX.duplicated()\n",
    "weather[\"test1\"] = weather[\"PRCP\"].copy()"
   ]
  },
  {
   "cell_type": "code",
   "execution_count": 89,
   "id": "a655e4b0-740f-4106-aee2-9291575a2e4c",
   "metadata": {},
   "outputs": [
    {
     "data": {
      "text/plain": [
       "False"
      ]
     },
     "execution_count": 89,
     "metadata": {},
     "output_type": "execute_result"
    }
   ],
   "source": [
    "weather.index.is_unique"
   ]
  },
  {
   "cell_type": "code",
   "execution_count": 5,
   "id": "716e30a3-2024-41ec-b01f-2f85d5dadc72",
   "metadata": {},
   "outputs": [],
   "source": [
    "## Here's some examples of how we can use the index column:"
   ]
  },
  {
   "cell_type": "code",
   "execution_count": 6,
   "id": "ae3cda9e-d22f-4af5-96f0-f34c8ee50243",
   "metadata": {},
   "outputs": [],
   "source": [
    "#Look at data for a particular day:\n",
    "#weather.loc[\"1958-12-18\",:]"
   ]
  },
  {
   "cell_type": "code",
   "execution_count": 7,
   "id": "26d2dc30-8597-49bd-809f-bd8831166ae0",
   "metadata": {},
   "outputs": [],
   "source": [
    "#Look at data in a specific range:\n",
    "#weather.loc[\"2022-10-01\":\"2022-10-28\",:]"
   ]
  },
  {
   "cell_type": "code",
   "execution_count": 8,
   "id": "576784d8-5d85-45d5-900f-57e226cbe551",
   "metadata": {},
   "outputs": [],
   "source": [
    "#Preparing the data for machine learning: clean data, get rid of missing values"
   ]
  },
  {
   "cell_type": "code",
   "execution_count": 9,
   "id": "a4c58edb-0778-48de-bc1d-71f97e30c0b4",
   "metadata": {},
   "outputs": [
    {
     "data": {
      "text/plain": [
       "STATION     0.000000\n",
       "NAME        0.000000\n",
       "PRCP       37.089458\n",
       "TAVG        0.000000\n",
       "TMAX       48.144707\n",
       "TMIN       66.244057\n",
       "dtype: float64"
      ]
     },
     "execution_count": 9,
     "metadata": {},
     "output_type": "execute_result"
    }
   ],
   "source": [
    "#Fix missing values:\n",
    "weather.apply(pd.isnull).sum()/weather.shape[0]*100\n",
    "# weather.apply(pd.isnull) gives which columns have missing values\n",
    "# sum() gives the count of all the null values in each column\n",
    "# divide by weather.shape[0] (number of rows in weather) to get percentage\n",
    "# => percentage of null values in each column"
   ]
  },
  {
   "cell_type": "code",
   "execution_count": 10,
   "id": "da1e4a2b-42d4-4a96-96cd-c78a0d1ba829",
   "metadata": {},
   "outputs": [],
   "source": [
    "#select core data for analyzing: select a few columns from the data set and copy them into a new dataframe\n",
    "core_weather = weather[[\"PRCP\",\"TAVG\",\"TMAX\"]].copy()"
   ]
  },
  {
   "cell_type": "code",
   "execution_count": 11,
   "id": "73e1886e-f972-4b4f-84fd-e7a9561c9d55",
   "metadata": {},
   "outputs": [],
   "source": [
    " #rename the columns to make it easier to work with:\n",
    "core_weather.columns = [\"precip\",\"temp_avg\",\"temp_max\"]"
   ]
  },
  {
   "cell_type": "code",
   "execution_count": 12,
   "id": "7891fcc3-83da-40d1-ba15-de7d2365c13a",
   "metadata": {},
   "outputs": [
    {
     "data": {
      "text/html": [
       "<div>\n",
       "<style scoped>\n",
       "    .dataframe tbody tr th:only-of-type {\n",
       "        vertical-align: middle;\n",
       "    }\n",
       "\n",
       "    .dataframe tbody tr th {\n",
       "        vertical-align: top;\n",
       "    }\n",
       "\n",
       "    .dataframe thead th {\n",
       "        text-align: right;\n",
       "    }\n",
       "</style>\n",
       "<table border=\"1\" class=\"dataframe\">\n",
       "  <thead>\n",
       "    <tr style=\"text-align: right;\">\n",
       "      <th></th>\n",
       "      <th>precip</th>\n",
       "      <th>temp_avg</th>\n",
       "      <th>temp_max</th>\n",
       "    </tr>\n",
       "    <tr>\n",
       "      <th>DATE</th>\n",
       "      <th></th>\n",
       "      <th></th>\n",
       "      <th></th>\n",
       "    </tr>\n",
       "  </thead>\n",
       "  <tbody>\n",
       "    <tr>\n",
       "      <th>1982-02-11</th>\n",
       "      <td>0.0</td>\n",
       "      <td>12.2</td>\n",
       "      <td>15.1</td>\n",
       "    </tr>\n",
       "    <tr>\n",
       "      <th>1982-02-12</th>\n",
       "      <td>NaN</td>\n",
       "      <td>13.1</td>\n",
       "      <td>14.1</td>\n",
       "    </tr>\n",
       "    <tr>\n",
       "      <th>1982-02-13</th>\n",
       "      <td>0.0</td>\n",
       "      <td>12.4</td>\n",
       "      <td>13.8</td>\n",
       "    </tr>\n",
       "    <tr>\n",
       "      <th>1982-02-14</th>\n",
       "      <td>0.0</td>\n",
       "      <td>13.4</td>\n",
       "      <td>15.8</td>\n",
       "    </tr>\n",
       "    <tr>\n",
       "      <th>1982-02-16</th>\n",
       "      <td>0.0</td>\n",
       "      <td>13.6</td>\n",
       "      <td>15.5</td>\n",
       "    </tr>\n",
       "    <tr>\n",
       "      <th>...</th>\n",
       "      <td>...</td>\n",
       "      <td>...</td>\n",
       "      <td>...</td>\n",
       "    </tr>\n",
       "    <tr>\n",
       "      <th>2022-10-26</th>\n",
       "      <td>0.0</td>\n",
       "      <td>25.4</td>\n",
       "      <td>NaN</td>\n",
       "    </tr>\n",
       "    <tr>\n",
       "      <th>2022-10-27</th>\n",
       "      <td>NaN</td>\n",
       "      <td>26.1</td>\n",
       "      <td>NaN</td>\n",
       "    </tr>\n",
       "    <tr>\n",
       "      <th>2022-10-28</th>\n",
       "      <td>NaN</td>\n",
       "      <td>26.3</td>\n",
       "      <td>NaN</td>\n",
       "    </tr>\n",
       "    <tr>\n",
       "      <th>2022-10-29</th>\n",
       "      <td>0.5</td>\n",
       "      <td>25.8</td>\n",
       "      <td>NaN</td>\n",
       "    </tr>\n",
       "    <tr>\n",
       "      <th>2022-10-30</th>\n",
       "      <td>0.0</td>\n",
       "      <td>26.4</td>\n",
       "      <td>NaN</td>\n",
       "    </tr>\n",
       "  </tbody>\n",
       "</table>\n",
       "<p>18299 rows × 3 columns</p>\n",
       "</div>"
      ],
      "text/plain": [
       "            precip  temp_avg  temp_max\n",
       "DATE                                  \n",
       "1982-02-11     0.0      12.2      15.1\n",
       "1982-02-12     NaN      13.1      14.1\n",
       "1982-02-13     0.0      12.4      13.8\n",
       "1982-02-14     0.0      13.4      15.8\n",
       "1982-02-16     0.0      13.6      15.5\n",
       "...            ...       ...       ...\n",
       "2022-10-26     0.0      25.4       NaN\n",
       "2022-10-27     NaN      26.1       NaN\n",
       "2022-10-28     NaN      26.3       NaN\n",
       "2022-10-29     0.5      25.8       NaN\n",
       "2022-10-30     0.0      26.4       NaN\n",
       "\n",
       "[18299 rows x 3 columns]"
      ]
     },
     "execution_count": 12,
     "metadata": {},
     "output_type": "execute_result"
    }
   ],
   "source": [
    "core_weather"
   ]
  },
  {
   "cell_type": "code",
   "execution_count": 13,
   "id": "5257cdd0-d2a7-446c-be8b-787a28e5944e",
   "metadata": {},
   "outputs": [
    {
     "data": {
      "text/plain": [
       "precip      37.089458\n",
       "temp_avg     0.000000\n",
       "temp_max    48.144707\n",
       "dtype: float64"
      ]
     },
     "execution_count": 13,
     "metadata": {},
     "output_type": "execute_result"
    }
   ],
   "source": [
    "core_weather.apply(pd.isnull).sum()/core_weather.shape[0]*100"
   ]
  },
  {
   "cell_type": "code",
   "execution_count": 14,
   "id": "22c85a64-cd81-4d79-ad3d-c46c2ed1db3f",
   "metadata": {},
   "outputs": [
    {
     "data": {
      "text/html": [
       "<div>\n",
       "<style scoped>\n",
       "    .dataframe tbody tr th:only-of-type {\n",
       "        vertical-align: middle;\n",
       "    }\n",
       "\n",
       "    .dataframe tbody tr th {\n",
       "        vertical-align: top;\n",
       "    }\n",
       "\n",
       "    .dataframe thead th {\n",
       "        text-align: right;\n",
       "    }\n",
       "</style>\n",
       "<table border=\"1\" class=\"dataframe\">\n",
       "  <thead>\n",
       "    <tr style=\"text-align: right;\">\n",
       "      <th></th>\n",
       "      <th>precip</th>\n",
       "      <th>temp_avg</th>\n",
       "      <th>temp_max</th>\n",
       "    </tr>\n",
       "    <tr>\n",
       "      <th>DATE</th>\n",
       "      <th></th>\n",
       "      <th></th>\n",
       "      <th></th>\n",
       "    </tr>\n",
       "  </thead>\n",
       "  <tbody>\n",
       "    <tr>\n",
       "      <th>1982-02-12</th>\n",
       "      <td>NaN</td>\n",
       "      <td>13.1</td>\n",
       "      <td>14.1</td>\n",
       "    </tr>\n",
       "    <tr>\n",
       "      <th>1982-02-17</th>\n",
       "      <td>NaN</td>\n",
       "      <td>14.5</td>\n",
       "      <td>NaN</td>\n",
       "    </tr>\n",
       "    <tr>\n",
       "      <th>1982-02-18</th>\n",
       "      <td>NaN</td>\n",
       "      <td>15.8</td>\n",
       "      <td>16.7</td>\n",
       "    </tr>\n",
       "    <tr>\n",
       "      <th>1982-02-19</th>\n",
       "      <td>NaN</td>\n",
       "      <td>18.2</td>\n",
       "      <td>19.8</td>\n",
       "    </tr>\n",
       "    <tr>\n",
       "      <th>1982-02-20</th>\n",
       "      <td>NaN</td>\n",
       "      <td>22.3</td>\n",
       "      <td>NaN</td>\n",
       "    </tr>\n",
       "    <tr>\n",
       "      <th>...</th>\n",
       "      <td>...</td>\n",
       "      <td>...</td>\n",
       "      <td>...</td>\n",
       "    </tr>\n",
       "    <tr>\n",
       "      <th>2022-10-17</th>\n",
       "      <td>NaN</td>\n",
       "      <td>26.4</td>\n",
       "      <td>NaN</td>\n",
       "    </tr>\n",
       "    <tr>\n",
       "      <th>2022-10-23</th>\n",
       "      <td>NaN</td>\n",
       "      <td>27.7</td>\n",
       "      <td>NaN</td>\n",
       "    </tr>\n",
       "    <tr>\n",
       "      <th>2022-10-24</th>\n",
       "      <td>NaN</td>\n",
       "      <td>27.9</td>\n",
       "      <td>NaN</td>\n",
       "    </tr>\n",
       "    <tr>\n",
       "      <th>2022-10-27</th>\n",
       "      <td>NaN</td>\n",
       "      <td>26.1</td>\n",
       "      <td>NaN</td>\n",
       "    </tr>\n",
       "    <tr>\n",
       "      <th>2022-10-28</th>\n",
       "      <td>NaN</td>\n",
       "      <td>26.3</td>\n",
       "      <td>NaN</td>\n",
       "    </tr>\n",
       "  </tbody>\n",
       "</table>\n",
       "<p>6787 rows × 3 columns</p>\n",
       "</div>"
      ],
      "text/plain": [
       "            precip  temp_avg  temp_max\n",
       "DATE                                  \n",
       "1982-02-12     NaN      13.1      14.1\n",
       "1982-02-17     NaN      14.5       NaN\n",
       "1982-02-18     NaN      15.8      16.7\n",
       "1982-02-19     NaN      18.2      19.8\n",
       "1982-02-20     NaN      22.3       NaN\n",
       "...            ...       ...       ...\n",
       "2022-10-17     NaN      26.4       NaN\n",
       "2022-10-23     NaN      27.7       NaN\n",
       "2022-10-24     NaN      27.9       NaN\n",
       "2022-10-27     NaN      26.1       NaN\n",
       "2022-10-28     NaN      26.3       NaN\n",
       "\n",
       "[6787 rows x 3 columns]"
      ]
     },
     "execution_count": 14,
     "metadata": {},
     "output_type": "execute_result"
    }
   ],
   "source": [
    "core_weather[pd.isnull(core_weather[\"precip\"])] #only select rows where precipitation is null"
   ]
  },
  {
   "cell_type": "code",
   "execution_count": 15,
   "id": "897be6ee-df35-4a6a-b595-8a621b153e5f",
   "metadata": {},
   "outputs": [],
   "source": [
    "#apparently there are 6787 rows where precipitation is missing (lmao that's a lot)"
   ]
  },
  {
   "cell_type": "code",
   "execution_count": 16,
   "id": "365e037c-1773-432c-b5c3-5606f9611a07",
   "metadata": {},
   "outputs": [],
   "source": [
    "#we can see that 12 Feb 1982 is a day where precip is missing, so we can take a look at what happened before and after that."
   ]
  },
  {
   "cell_type": "code",
   "execution_count": 17,
   "id": "598db988-5e45-41e1-aa89-1189fc62dd0f",
   "metadata": {},
   "outputs": [
    {
     "data": {
      "text/html": [
       "<div>\n",
       "<style scoped>\n",
       "    .dataframe tbody tr th:only-of-type {\n",
       "        vertical-align: middle;\n",
       "    }\n",
       "\n",
       "    .dataframe tbody tr th {\n",
       "        vertical-align: top;\n",
       "    }\n",
       "\n",
       "    .dataframe thead th {\n",
       "        text-align: right;\n",
       "    }\n",
       "</style>\n",
       "<table border=\"1\" class=\"dataframe\">\n",
       "  <thead>\n",
       "    <tr style=\"text-align: right;\">\n",
       "      <th></th>\n",
       "      <th>precip</th>\n",
       "      <th>temp_avg</th>\n",
       "      <th>temp_max</th>\n",
       "    </tr>\n",
       "    <tr>\n",
       "      <th>DATE</th>\n",
       "      <th></th>\n",
       "      <th></th>\n",
       "      <th></th>\n",
       "    </tr>\n",
       "  </thead>\n",
       "  <tbody>\n",
       "    <tr>\n",
       "      <th>1982-02-11</th>\n",
       "      <td>0.0</td>\n",
       "      <td>12.2</td>\n",
       "      <td>15.1</td>\n",
       "    </tr>\n",
       "    <tr>\n",
       "      <th>1982-02-12</th>\n",
       "      <td>NaN</td>\n",
       "      <td>13.1</td>\n",
       "      <td>14.1</td>\n",
       "    </tr>\n",
       "    <tr>\n",
       "      <th>1982-02-13</th>\n",
       "      <td>0.0</td>\n",
       "      <td>12.4</td>\n",
       "      <td>13.8</td>\n",
       "    </tr>\n",
       "    <tr>\n",
       "      <th>1982-02-14</th>\n",
       "      <td>0.0</td>\n",
       "      <td>13.4</td>\n",
       "      <td>15.8</td>\n",
       "    </tr>\n",
       "    <tr>\n",
       "      <th>1982-02-16</th>\n",
       "      <td>0.0</td>\n",
       "      <td>13.6</td>\n",
       "      <td>15.5</td>\n",
       "    </tr>\n",
       "  </tbody>\n",
       "</table>\n",
       "</div>"
      ],
      "text/plain": [
       "            precip  temp_avg  temp_max\n",
       "DATE                                  \n",
       "1982-02-11     0.0      12.2      15.1\n",
       "1982-02-12     NaN      13.1      14.1\n",
       "1982-02-13     0.0      12.4      13.8\n",
       "1982-02-14     0.0      13.4      15.8\n",
       "1982-02-16     0.0      13.6      15.5"
      ]
     },
     "execution_count": 17,
     "metadata": {},
     "output_type": "execute_result"
    }
   ],
   "source": [
    "core_weather.loc[\"1982-02-11\":\"1982-02-16\"]"
   ]
  },
  {
   "cell_type": "code",
   "execution_count": 18,
   "id": "cb6f4373-fb71-4fec-b8fd-015ad1956e8f",
   "metadata": {},
   "outputs": [],
   "source": [
    "#so there was no precipitation from 11th to 16th. now what we're gonna do is figure out what we want to replace this missing value with."
   ]
  },
  {
   "cell_type": "code",
   "execution_count": 19,
   "id": "772d410e-9369-4925-808a-f0328fa309b3",
   "metadata": {},
   "outputs": [],
   "source": [
    "#there are 2 strategies. we could try the forward fill which is to replace with the value that came directly before (in this case a 0)."
   ]
  },
  {
   "cell_type": "code",
   "execution_count": 20,
   "id": "fb0863df-7e4d-48ad-81be-d14c9837a621",
   "metadata": {},
   "outputs": [
    {
     "data": {
      "text/plain": [
       "0.0     7868\n",
       "0.3      315\n",
       "0.5      310\n",
       "1.0      248\n",
       "0.8      188\n",
       "        ... \n",
       "47.8       1\n",
       "70.9       1\n",
       "41.7       1\n",
       "54.9       1\n",
       "44.5       1\n",
       "Name: precip, Length: 328, dtype: int64"
      ]
     },
     "execution_count": 20,
     "metadata": {},
     "output_type": "execute_result"
    }
   ],
   "source": [
    "core_weather[\"precip\"].value_counts()"
   ]
  },
  {
   "cell_type": "code",
   "execution_count": 21,
   "id": "d932865f-8ce8-42a3-b255-a6b922883b38",
   "metadata": {},
   "outputs": [
    {
     "data": {
      "text/html": [
       "<div>\n",
       "<style scoped>\n",
       "    .dataframe tbody tr th:only-of-type {\n",
       "        vertical-align: middle;\n",
       "    }\n",
       "\n",
       "    .dataframe tbody tr th {\n",
       "        vertical-align: top;\n",
       "    }\n",
       "\n",
       "    .dataframe thead th {\n",
       "        text-align: right;\n",
       "    }\n",
       "</style>\n",
       "<table border=\"1\" class=\"dataframe\">\n",
       "  <thead>\n",
       "    <tr style=\"text-align: right;\">\n",
       "      <th></th>\n",
       "      <th>precip</th>\n",
       "      <th>temp_avg</th>\n",
       "      <th>temp_max</th>\n",
       "    </tr>\n",
       "    <tr>\n",
       "      <th>DATE</th>\n",
       "      <th></th>\n",
       "      <th></th>\n",
       "      <th></th>\n",
       "    </tr>\n",
       "  </thead>\n",
       "  <tbody>\n",
       "    <tr>\n",
       "      <th>1982-02-11</th>\n",
       "      <td>0.0</td>\n",
       "      <td>12.2</td>\n",
       "      <td>15.1</td>\n",
       "    </tr>\n",
       "    <tr>\n",
       "      <th>1982-02-12</th>\n",
       "      <td>NaN</td>\n",
       "      <td>13.1</td>\n",
       "      <td>14.1</td>\n",
       "    </tr>\n",
       "    <tr>\n",
       "      <th>1982-02-13</th>\n",
       "      <td>0.0</td>\n",
       "      <td>12.4</td>\n",
       "      <td>13.8</td>\n",
       "    </tr>\n",
       "    <tr>\n",
       "      <th>1982-02-14</th>\n",
       "      <td>0.0</td>\n",
       "      <td>13.4</td>\n",
       "      <td>15.8</td>\n",
       "    </tr>\n",
       "    <tr>\n",
       "      <th>1982-02-16</th>\n",
       "      <td>0.0</td>\n",
       "      <td>13.6</td>\n",
       "      <td>15.5</td>\n",
       "    </tr>\n",
       "    <tr>\n",
       "      <th>1982-02-17</th>\n",
       "      <td>NaN</td>\n",
       "      <td>14.5</td>\n",
       "      <td>NaN</td>\n",
       "    </tr>\n",
       "    <tr>\n",
       "      <th>1982-02-18</th>\n",
       "      <td>NaN</td>\n",
       "      <td>15.8</td>\n",
       "      <td>16.7</td>\n",
       "    </tr>\n",
       "    <tr>\n",
       "      <th>1982-02-19</th>\n",
       "      <td>NaN</td>\n",
       "      <td>18.2</td>\n",
       "      <td>19.8</td>\n",
       "    </tr>\n",
       "    <tr>\n",
       "      <th>1982-02-20</th>\n",
       "      <td>NaN</td>\n",
       "      <td>22.3</td>\n",
       "      <td>NaN</td>\n",
       "    </tr>\n",
       "    <tr>\n",
       "      <th>1982-02-21</th>\n",
       "      <td>NaN</td>\n",
       "      <td>21.2</td>\n",
       "      <td>24.5</td>\n",
       "    </tr>\n",
       "    <tr>\n",
       "      <th>1982-02-22</th>\n",
       "      <td>0.0</td>\n",
       "      <td>22.5</td>\n",
       "      <td>26.1</td>\n",
       "    </tr>\n",
       "    <tr>\n",
       "      <th>1982-02-23</th>\n",
       "      <td>0.0</td>\n",
       "      <td>23.7</td>\n",
       "      <td>28.3</td>\n",
       "    </tr>\n",
       "    <tr>\n",
       "      <th>1982-02-24</th>\n",
       "      <td>NaN</td>\n",
       "      <td>21.1</td>\n",
       "      <td>24.0</td>\n",
       "    </tr>\n",
       "    <tr>\n",
       "      <th>1982-02-25</th>\n",
       "      <td>NaN</td>\n",
       "      <td>18.2</td>\n",
       "      <td>NaN</td>\n",
       "    </tr>\n",
       "    <tr>\n",
       "      <th>1982-02-26</th>\n",
       "      <td>NaN</td>\n",
       "      <td>16.3</td>\n",
       "      <td>17.7</td>\n",
       "    </tr>\n",
       "    <tr>\n",
       "      <th>1982-02-27</th>\n",
       "      <td>NaN</td>\n",
       "      <td>15.1</td>\n",
       "      <td>16.5</td>\n",
       "    </tr>\n",
       "    <tr>\n",
       "      <th>1982-02-28</th>\n",
       "      <td>0.0</td>\n",
       "      <td>16.8</td>\n",
       "      <td>NaN</td>\n",
       "    </tr>\n",
       "  </tbody>\n",
       "</table>\n",
       "</div>"
      ],
      "text/plain": [
       "            precip  temp_avg  temp_max\n",
       "DATE                                  \n",
       "1982-02-11     0.0      12.2      15.1\n",
       "1982-02-12     NaN      13.1      14.1\n",
       "1982-02-13     0.0      12.4      13.8\n",
       "1982-02-14     0.0      13.4      15.8\n",
       "1982-02-16     0.0      13.6      15.5\n",
       "1982-02-17     NaN      14.5       NaN\n",
       "1982-02-18     NaN      15.8      16.7\n",
       "1982-02-19     NaN      18.2      19.8\n",
       "1982-02-20     NaN      22.3       NaN\n",
       "1982-02-21     NaN      21.2      24.5\n",
       "1982-02-22     0.0      22.5      26.1\n",
       "1982-02-23     0.0      23.7      28.3\n",
       "1982-02-24     NaN      21.1      24.0\n",
       "1982-02-25     NaN      18.2       NaN\n",
       "1982-02-26     NaN      16.3      17.7\n",
       "1982-02-27     NaN      15.1      16.5\n",
       "1982-02-28     0.0      16.8       NaN"
      ]
     },
     "execution_count": 21,
     "metadata": {},
     "output_type": "execute_result"
    }
   ],
   "source": [
    "#vast majority of days have zero precipitation\n",
    "core_weather.loc[\"1982-02-11\":\"1982-02-28\"]"
   ]
  },
  {
   "cell_type": "code",
   "execution_count": 22,
   "id": "223a3985-17ca-4e09-ab2b-c8e5cadc40cd",
   "metadata": {},
   "outputs": [
    {
     "data": {
      "text/plain": [
       "DATE\n",
       "1982-02-11    0.0\n",
       "1982-02-12    NaN\n",
       "1982-02-13    0.0\n",
       "1982-02-14    0.0\n",
       "1982-02-16    0.0\n",
       "1982-02-17    NaN\n",
       "1982-02-18    NaN\n",
       "1982-02-19    NaN\n",
       "1982-02-20    NaN\n",
       "1982-02-21    NaN\n",
       "1982-02-22    0.0\n",
       "1982-02-23    0.0\n",
       "1982-02-24    NaN\n",
       "1982-02-25    NaN\n",
       "1982-02-26    NaN\n",
       "1982-02-27    NaN\n",
       "1982-02-28    0.0\n",
       "Name: precip, dtype: float64"
      ]
     },
     "execution_count": 22,
     "metadata": {},
     "output_type": "execute_result"
    }
   ],
   "source": [
    "core_weather[\"precip\"].loc[\"1982-02-11\":\"1982-02-28\"]"
   ]
  },
  {
   "cell_type": "code",
   "execution_count": 23,
   "id": "fa742903-5cdc-42c6-a977-5649f1774702",
   "metadata": {},
   "outputs": [
    {
     "data": {
      "text/html": [
       "<div>\n",
       "<style scoped>\n",
       "    .dataframe tbody tr th:only-of-type {\n",
       "        vertical-align: middle;\n",
       "    }\n",
       "\n",
       "    .dataframe tbody tr th {\n",
       "        vertical-align: top;\n",
       "    }\n",
       "\n",
       "    .dataframe thead th {\n",
       "        text-align: right;\n",
       "    }\n",
       "</style>\n",
       "<table border=\"1\" class=\"dataframe\">\n",
       "  <thead>\n",
       "    <tr style=\"text-align: right;\">\n",
       "      <th></th>\n",
       "      <th>precip</th>\n",
       "      <th>temp_avg</th>\n",
       "      <th>temp_max</th>\n",
       "    </tr>\n",
       "    <tr>\n",
       "      <th>DATE</th>\n",
       "      <th></th>\n",
       "      <th></th>\n",
       "      <th></th>\n",
       "    </tr>\n",
       "  </thead>\n",
       "  <tbody>\n",
       "    <tr>\n",
       "      <th>1982-02-12</th>\n",
       "      <td>NaN</td>\n",
       "      <td>13.1</td>\n",
       "      <td>14.1</td>\n",
       "    </tr>\n",
       "    <tr>\n",
       "      <th>1982-02-17</th>\n",
       "      <td>NaN</td>\n",
       "      <td>14.5</td>\n",
       "      <td>NaN</td>\n",
       "    </tr>\n",
       "    <tr>\n",
       "      <th>1982-02-18</th>\n",
       "      <td>NaN</td>\n",
       "      <td>15.8</td>\n",
       "      <td>16.7</td>\n",
       "    </tr>\n",
       "    <tr>\n",
       "      <th>1982-02-19</th>\n",
       "      <td>NaN</td>\n",
       "      <td>18.2</td>\n",
       "      <td>19.8</td>\n",
       "    </tr>\n",
       "    <tr>\n",
       "      <th>1982-02-20</th>\n",
       "      <td>NaN</td>\n",
       "      <td>22.3</td>\n",
       "      <td>NaN</td>\n",
       "    </tr>\n",
       "    <tr>\n",
       "      <th>...</th>\n",
       "      <td>...</td>\n",
       "      <td>...</td>\n",
       "      <td>...</td>\n",
       "    </tr>\n",
       "    <tr>\n",
       "      <th>2022-10-17</th>\n",
       "      <td>NaN</td>\n",
       "      <td>26.4</td>\n",
       "      <td>NaN</td>\n",
       "    </tr>\n",
       "    <tr>\n",
       "      <th>2022-10-23</th>\n",
       "      <td>NaN</td>\n",
       "      <td>27.7</td>\n",
       "      <td>NaN</td>\n",
       "    </tr>\n",
       "    <tr>\n",
       "      <th>2022-10-24</th>\n",
       "      <td>NaN</td>\n",
       "      <td>27.9</td>\n",
       "      <td>NaN</td>\n",
       "    </tr>\n",
       "    <tr>\n",
       "      <th>2022-10-27</th>\n",
       "      <td>NaN</td>\n",
       "      <td>26.1</td>\n",
       "      <td>NaN</td>\n",
       "    </tr>\n",
       "    <tr>\n",
       "      <th>2022-10-28</th>\n",
       "      <td>NaN</td>\n",
       "      <td>26.3</td>\n",
       "      <td>NaN</td>\n",
       "    </tr>\n",
       "  </tbody>\n",
       "</table>\n",
       "<p>6787 rows × 3 columns</p>\n",
       "</div>"
      ],
      "text/plain": [
       "            precip  temp_avg  temp_max\n",
       "DATE                                  \n",
       "1982-02-12     NaN      13.1      14.1\n",
       "1982-02-17     NaN      14.5       NaN\n",
       "1982-02-18     NaN      15.8      16.7\n",
       "1982-02-19     NaN      18.2      19.8\n",
       "1982-02-20     NaN      22.3       NaN\n",
       "...            ...       ...       ...\n",
       "2022-10-17     NaN      26.4       NaN\n",
       "2022-10-23     NaN      27.7       NaN\n",
       "2022-10-24     NaN      27.9       NaN\n",
       "2022-10-27     NaN      26.1       NaN\n",
       "2022-10-28     NaN      26.3       NaN\n",
       "\n",
       "[6787 rows x 3 columns]"
      ]
     },
     "execution_count": 23,
     "metadata": {},
     "output_type": "execute_result"
    }
   ],
   "source": [
    "core_weather[pd.isnull(core_weather[\"precip\"])]"
   ]
  },
  {
   "cell_type": "code",
   "execution_count": 24,
   "id": "7944069c-1e82-44c7-b2cf-00e26f80a8ec",
   "metadata": {},
   "outputs": [],
   "source": [
    "#lol i'll just assume that all the missing values are 0"
   ]
  },
  {
   "cell_type": "code",
   "execution_count": 25,
   "id": "939b7a5b-02ea-4f72-b894-31c2ce152a61",
   "metadata": {},
   "outputs": [],
   "source": [
    "core_weather[\"precip\"] = core_weather[\"precip\"].fillna(0)"
   ]
  },
  {
   "cell_type": "code",
   "execution_count": 26,
   "id": "e2ca8d44-0277-4998-aba9-74f0663c65ad",
   "metadata": {},
   "outputs": [
    {
     "data": {
      "text/plain": [
       "precip       0.000000\n",
       "temp_avg     0.000000\n",
       "temp_max    48.144707\n",
       "dtype: float64"
      ]
     },
     "execution_count": 26,
     "metadata": {},
     "output_type": "execute_result"
    }
   ],
   "source": [
    "core_weather.apply(pd.isnull).sum()/core_weather.shape[0]*100"
   ]
  },
  {
   "cell_type": "code",
   "execution_count": 27,
   "id": "3976f8cc-42b1-4cec-9ec9-83d6c580bc95",
   "metadata": {},
   "outputs": [],
   "source": [
    "#now we're left with maximum temperature.\n",
    "#honestly i'm not sure whether i should use this column or not cuz the percentage of null values is just too big"
   ]
  },
  {
   "cell_type": "code",
   "execution_count": 28,
   "id": "b88eea57-9190-49d5-82de-d758d19f5401",
   "metadata": {},
   "outputs": [],
   "source": [
    "#let's have a look"
   ]
  },
  {
   "cell_type": "code",
   "execution_count": 29,
   "id": "d9f02a9d-2e35-41f7-a215-25ac0f68787f",
   "metadata": {},
   "outputs": [
    {
     "data": {
      "text/plain": [
       "precip         0\n",
       "temp_avg       0\n",
       "temp_max    8810\n",
       "dtype: int64"
      ]
     },
     "execution_count": 29,
     "metadata": {},
     "output_type": "execute_result"
    }
   ],
   "source": [
    "core_weather.apply(pd.isnull).sum()"
   ]
  },
  {
   "cell_type": "code",
   "execution_count": 30,
   "id": "c19e5ab4-a3aa-4c03-8ef0-d4983efb5c94",
   "metadata": {},
   "outputs": [
    {
     "data": {
      "text/html": [
       "<div>\n",
       "<style scoped>\n",
       "    .dataframe tbody tr th:only-of-type {\n",
       "        vertical-align: middle;\n",
       "    }\n",
       "\n",
       "    .dataframe tbody tr th {\n",
       "        vertical-align: top;\n",
       "    }\n",
       "\n",
       "    .dataframe thead th {\n",
       "        text-align: right;\n",
       "    }\n",
       "</style>\n",
       "<table border=\"1\" class=\"dataframe\">\n",
       "  <thead>\n",
       "    <tr style=\"text-align: right;\">\n",
       "      <th></th>\n",
       "      <th>precip</th>\n",
       "      <th>temp_avg</th>\n",
       "      <th>temp_max</th>\n",
       "    </tr>\n",
       "    <tr>\n",
       "      <th>DATE</th>\n",
       "      <th></th>\n",
       "      <th></th>\n",
       "      <th></th>\n",
       "    </tr>\n",
       "  </thead>\n",
       "  <tbody>\n",
       "    <tr>\n",
       "      <th>1982-02-17</th>\n",
       "      <td>0.0</td>\n",
       "      <td>14.5</td>\n",
       "      <td>NaN</td>\n",
       "    </tr>\n",
       "    <tr>\n",
       "      <th>1982-02-20</th>\n",
       "      <td>0.0</td>\n",
       "      <td>22.3</td>\n",
       "      <td>NaN</td>\n",
       "    </tr>\n",
       "    <tr>\n",
       "      <th>1982-02-25</th>\n",
       "      <td>0.0</td>\n",
       "      <td>18.2</td>\n",
       "      <td>NaN</td>\n",
       "    </tr>\n",
       "    <tr>\n",
       "      <th>1982-02-28</th>\n",
       "      <td>0.0</td>\n",
       "      <td>16.8</td>\n",
       "      <td>NaN</td>\n",
       "    </tr>\n",
       "    <tr>\n",
       "      <th>1982-03-01</th>\n",
       "      <td>0.0</td>\n",
       "      <td>18.7</td>\n",
       "      <td>NaN</td>\n",
       "    </tr>\n",
       "    <tr>\n",
       "      <th>...</th>\n",
       "      <td>...</td>\n",
       "      <td>...</td>\n",
       "      <td>...</td>\n",
       "    </tr>\n",
       "    <tr>\n",
       "      <th>2022-10-26</th>\n",
       "      <td>0.0</td>\n",
       "      <td>25.4</td>\n",
       "      <td>NaN</td>\n",
       "    </tr>\n",
       "    <tr>\n",
       "      <th>2022-10-27</th>\n",
       "      <td>0.0</td>\n",
       "      <td>26.1</td>\n",
       "      <td>NaN</td>\n",
       "    </tr>\n",
       "    <tr>\n",
       "      <th>2022-10-28</th>\n",
       "      <td>0.0</td>\n",
       "      <td>26.3</td>\n",
       "      <td>NaN</td>\n",
       "    </tr>\n",
       "    <tr>\n",
       "      <th>2022-10-29</th>\n",
       "      <td>0.5</td>\n",
       "      <td>25.8</td>\n",
       "      <td>NaN</td>\n",
       "    </tr>\n",
       "    <tr>\n",
       "      <th>2022-10-30</th>\n",
       "      <td>0.0</td>\n",
       "      <td>26.4</td>\n",
       "      <td>NaN</td>\n",
       "    </tr>\n",
       "  </tbody>\n",
       "</table>\n",
       "<p>8810 rows × 3 columns</p>\n",
       "</div>"
      ],
      "text/plain": [
       "            precip  temp_avg  temp_max\n",
       "DATE                                  \n",
       "1982-02-17     0.0      14.5       NaN\n",
       "1982-02-20     0.0      22.3       NaN\n",
       "1982-02-25     0.0      18.2       NaN\n",
       "1982-02-28     0.0      16.8       NaN\n",
       "1982-03-01     0.0      18.7       NaN\n",
       "...            ...       ...       ...\n",
       "2022-10-26     0.0      25.4       NaN\n",
       "2022-10-27     0.0      26.1       NaN\n",
       "2022-10-28     0.0      26.3       NaN\n",
       "2022-10-29     0.5      25.8       NaN\n",
       "2022-10-30     0.0      26.4       NaN\n",
       "\n",
       "[8810 rows x 3 columns]"
      ]
     },
     "execution_count": 30,
     "metadata": {},
     "output_type": "execute_result"
    }
   ],
   "source": [
    "core_weather[pd.isnull(core_weather[\"temp_max\"])]"
   ]
  },
  {
   "cell_type": "code",
   "execution_count": 31,
   "id": "312a06e3-5a64-4ccf-b2b3-24b5536f9ffd",
   "metadata": {},
   "outputs": [
    {
     "data": {
      "text/plain": [
       "DATE\n",
       "1982-02-16    15.5\n",
       "1982-02-17     NaN\n",
       "1982-02-18    16.7\n",
       "1982-02-19    19.8\n",
       "1982-02-20     NaN\n",
       "1982-02-21    24.5\n",
       "1982-02-22    26.1\n",
       "1982-02-23    28.3\n",
       "1982-02-24    24.0\n",
       "1982-02-25     NaN\n",
       "1982-02-26    17.7\n",
       "1982-02-27    16.5\n",
       "1982-02-28     NaN\n",
       "1982-03-01     NaN\n",
       "1982-03-02    18.9\n",
       "Name: temp_max, dtype: float64"
      ]
     },
     "execution_count": 31,
     "metadata": {},
     "output_type": "execute_result"
    }
   ],
   "source": [
    "core_weather[\"temp_max\"].loc[\"1982-02-16\":\"1982-03-02\"]"
   ]
  },
  {
   "cell_type": "code",
   "execution_count": 32,
   "id": "f921fd61-402a-47d9-a3a1-4653727899c4",
   "metadata": {},
   "outputs": [],
   "source": [
    "#here we can choose to fill with the forward or backward method."
   ]
  },
  {
   "cell_type": "code",
   "execution_count": 33,
   "id": "4e15de5a-c513-4988-a7ef-d6d4d83b90a3",
   "metadata": {},
   "outputs": [],
   "source": [
    "#i'll go with forward cuz apparently we have previous values for all the rows.\n",
    "core_weather = core_weather.fillna(method=\"ffill\")"
   ]
  },
  {
   "cell_type": "code",
   "execution_count": 34,
   "id": "120aa72a-9689-4e5c-a14d-cec3c82ae57a",
   "metadata": {},
   "outputs": [
    {
     "data": {
      "text/html": [
       "<div>\n",
       "<style scoped>\n",
       "    .dataframe tbody tr th:only-of-type {\n",
       "        vertical-align: middle;\n",
       "    }\n",
       "\n",
       "    .dataframe tbody tr th {\n",
       "        vertical-align: top;\n",
       "    }\n",
       "\n",
       "    .dataframe thead th {\n",
       "        text-align: right;\n",
       "    }\n",
       "</style>\n",
       "<table border=\"1\" class=\"dataframe\">\n",
       "  <thead>\n",
       "    <tr style=\"text-align: right;\">\n",
       "      <th></th>\n",
       "      <th>precip</th>\n",
       "      <th>temp_avg</th>\n",
       "      <th>temp_max</th>\n",
       "    </tr>\n",
       "    <tr>\n",
       "      <th>DATE</th>\n",
       "      <th></th>\n",
       "      <th></th>\n",
       "      <th></th>\n",
       "    </tr>\n",
       "  </thead>\n",
       "  <tbody>\n",
       "    <tr>\n",
       "      <th>1982-02-11</th>\n",
       "      <td>0.0</td>\n",
       "      <td>12.2</td>\n",
       "      <td>15.1</td>\n",
       "    </tr>\n",
       "    <tr>\n",
       "      <th>1982-02-12</th>\n",
       "      <td>0.0</td>\n",
       "      <td>13.1</td>\n",
       "      <td>14.1</td>\n",
       "    </tr>\n",
       "    <tr>\n",
       "      <th>1982-02-13</th>\n",
       "      <td>0.0</td>\n",
       "      <td>12.4</td>\n",
       "      <td>13.8</td>\n",
       "    </tr>\n",
       "    <tr>\n",
       "      <th>1982-02-14</th>\n",
       "      <td>0.0</td>\n",
       "      <td>13.4</td>\n",
       "      <td>15.8</td>\n",
       "    </tr>\n",
       "    <tr>\n",
       "      <th>1982-02-16</th>\n",
       "      <td>0.0</td>\n",
       "      <td>13.6</td>\n",
       "      <td>15.5</td>\n",
       "    </tr>\n",
       "    <tr>\n",
       "      <th>...</th>\n",
       "      <td>...</td>\n",
       "      <td>...</td>\n",
       "      <td>...</td>\n",
       "    </tr>\n",
       "    <tr>\n",
       "      <th>2022-10-26</th>\n",
       "      <td>0.0</td>\n",
       "      <td>25.4</td>\n",
       "      <td>27.4</td>\n",
       "    </tr>\n",
       "    <tr>\n",
       "      <th>2022-10-27</th>\n",
       "      <td>0.0</td>\n",
       "      <td>26.1</td>\n",
       "      <td>27.4</td>\n",
       "    </tr>\n",
       "    <tr>\n",
       "      <th>2022-10-28</th>\n",
       "      <td>0.0</td>\n",
       "      <td>26.3</td>\n",
       "      <td>27.4</td>\n",
       "    </tr>\n",
       "    <tr>\n",
       "      <th>2022-10-29</th>\n",
       "      <td>0.5</td>\n",
       "      <td>25.8</td>\n",
       "      <td>27.4</td>\n",
       "    </tr>\n",
       "    <tr>\n",
       "      <th>2022-10-30</th>\n",
       "      <td>0.0</td>\n",
       "      <td>26.4</td>\n",
       "      <td>27.4</td>\n",
       "    </tr>\n",
       "  </tbody>\n",
       "</table>\n",
       "<p>18299 rows × 3 columns</p>\n",
       "</div>"
      ],
      "text/plain": [
       "            precip  temp_avg  temp_max\n",
       "DATE                                  \n",
       "1982-02-11     0.0      12.2      15.1\n",
       "1982-02-12     0.0      13.1      14.1\n",
       "1982-02-13     0.0      12.4      13.8\n",
       "1982-02-14     0.0      13.4      15.8\n",
       "1982-02-16     0.0      13.6      15.5\n",
       "...            ...       ...       ...\n",
       "2022-10-26     0.0      25.4      27.4\n",
       "2022-10-27     0.0      26.1      27.4\n",
       "2022-10-28     0.0      26.3      27.4\n",
       "2022-10-29     0.5      25.8      27.4\n",
       "2022-10-30     0.0      26.4      27.4\n",
       "\n",
       "[18299 rows x 3 columns]"
      ]
     },
     "execution_count": 34,
     "metadata": {},
     "output_type": "execute_result"
    }
   ],
   "source": [
    "core_weather"
   ]
  },
  {
   "cell_type": "code",
   "execution_count": 35,
   "id": "4a9c8fa3-f7ac-461c-913a-e6a6de34f21f",
   "metadata": {},
   "outputs": [
    {
     "data": {
      "text/plain": [
       "precip      0\n",
       "temp_avg    0\n",
       "temp_max    0\n",
       "dtype: int64"
      ]
     },
     "execution_count": 35,
     "metadata": {},
     "output_type": "execute_result"
    }
   ],
   "source": [
    "core_weather.apply(pd.isnull).sum()"
   ]
  },
  {
   "cell_type": "code",
   "execution_count": 36,
   "id": "a33946a6-a504-4bce-a722-c428cdd0464f",
   "metadata": {},
   "outputs": [],
   "source": [
    "#done with data preparation!"
   ]
  },
  {
   "cell_type": "code",
   "execution_count": 37,
   "id": "2af1b29d-a747-46e1-a177-533d915249a0",
   "metadata": {},
   "outputs": [
    {
     "data": {
      "text/plain": [
       "precip      0\n",
       "temp_avg    0\n",
       "temp_max    0\n",
       "dtype: int64"
      ]
     },
     "execution_count": 37,
     "metadata": {},
     "output_type": "execute_result"
    }
   ],
   "source": [
    "# Check for missing value defined in data documentation\n",
    "core_weather.apply(lambda x: (x == 9999).sum())"
   ]
  },
  {
   "cell_type": "code",
   "execution_count": 38,
   "id": "1292a056-ae88-4aeb-9929-1bdf38475ae8",
   "metadata": {},
   "outputs": [
    {
     "data": {
      "text/plain": [
       "precip      float64\n",
       "temp_avg    float64\n",
       "temp_max    float64\n",
       "dtype: object"
      ]
     },
     "execution_count": 38,
     "metadata": {},
     "output_type": "execute_result"
    }
   ],
   "source": [
    "core_weather.dtypes"
   ]
  },
  {
   "cell_type": "code",
   "execution_count": 39,
   "id": "18dca488-befa-45cd-a3d9-06c6cfc6b331",
   "metadata": {},
   "outputs": [
    {
     "data": {
      "text/plain": [
       "Index(['1982-02-11', '1982-02-12', '1982-02-13', '1982-02-14', '1982-02-16',\n",
       "       '1982-02-17', '1982-02-18', '1982-02-19', '1982-02-20', '1982-02-21',\n",
       "       ...\n",
       "       '2022-10-21', '2022-10-22', '2022-10-23', '2022-10-24', '2022-10-25',\n",
       "       '2022-10-26', '2022-10-27', '2022-10-28', '2022-10-29', '2022-10-30'],\n",
       "      dtype='object', name='DATE', length=18299)"
      ]
     },
     "execution_count": 39,
     "metadata": {},
     "output_type": "execute_result"
    }
   ],
   "source": [
    "core_weather.index"
   ]
  },
  {
   "cell_type": "code",
   "execution_count": 40,
   "id": "b6f10f17-c04e-44f5-9018-c0a0ae603929",
   "metadata": {},
   "outputs": [],
   "source": [
    "core_weather.index = pd.to_datetime(core_weather.index)"
   ]
  },
  {
   "cell_type": "code",
   "execution_count": 41,
   "id": "817a0a15-8fd5-4ce0-a9e0-627570e3b7f4",
   "metadata": {},
   "outputs": [
    {
     "data": {
      "text/plain": [
       "DatetimeIndex(['1982-02-11', '1982-02-12', '1982-02-13', '1982-02-14',\n",
       "               '1982-02-16', '1982-02-17', '1982-02-18', '1982-02-19',\n",
       "               '1982-02-20', '1982-02-21',\n",
       "               ...\n",
       "               '2022-10-21', '2022-10-22', '2022-10-23', '2022-10-24',\n",
       "               '2022-10-25', '2022-10-26', '2022-10-27', '2022-10-28',\n",
       "               '2022-10-29', '2022-10-30'],\n",
       "              dtype='datetime64[ns]', name='DATE', length=18299, freq=None)"
      ]
     },
     "execution_count": 41,
     "metadata": {},
     "output_type": "execute_result"
    }
   ],
   "source": [
    "core_weather.index"
   ]
  },
  {
   "cell_type": "code",
   "execution_count": 42,
   "id": "b88402d6-104c-4770-9a17-eb808d95d716",
   "metadata": {},
   "outputs": [
    {
     "data": {
      "text/plain": [
       "Int64Index([1982, 1982, 1982, 1982, 1982, 1982, 1982, 1982, 1982, 1982,\n",
       "            ...\n",
       "            2022, 2022, 2022, 2022, 2022, 2022, 2022, 2022, 2022, 2022],\n",
       "           dtype='int64', name='DATE', length=18299)"
      ]
     },
     "execution_count": 42,
     "metadata": {},
     "output_type": "execute_result"
    }
   ],
   "source": [
    "#now it's more convenient to use the index column\n",
    "core_weather.index.year"
   ]
  },
  {
   "cell_type": "code",
   "execution_count": 43,
   "id": "a9b63b96-94da-47f1-a13e-81571ecb4d28",
   "metadata": {},
   "outputs": [
    {
     "data": {
      "text/plain": [
       "<AxesSubplot:xlabel='DATE'>"
      ]
     },
     "execution_count": 43,
     "metadata": {},
     "output_type": "execute_result"
    },
    {
     "data": {
      "image/png": "[encoded data removed]",
      "text/plain": [
       "<Figure size 640x480 with 1 Axes>"
      ]
     },
     "metadata": {},
     "output_type": "display_data"
    }
   ],
   "source": [
    "core_weather[[\"temp_avg\", \"temp_max\"]].plot()"
   ]
  },
  {
   "cell_type": "code",
   "execution_count": 44,
   "id": "ac9b9303-b9a1-40a5-9009-2d7010a1de9d",
   "metadata": {},
   "outputs": [
    {
     "data": {
      "text/plain": [
       "1982    307\n",
       "1983    343\n",
       "1984    301\n",
       "1985    331\n",
       "1986    341\n",
       "1987    355\n",
       "1988    338\n",
       "1989    365\n",
       "1990    354\n",
       "1991    353\n",
       "1992    357\n",
       "1993    365\n",
       "1994    365\n",
       "1995    365\n",
       "1996    366\n",
       "1997    365\n",
       "1998    364\n",
       "1999    364\n",
       "2000    366\n",
       "2001    365\n",
       "2002    365\n",
       "2003    365\n",
       "2004    366\n",
       "2005    365\n",
       "2006    365\n",
       "2007    365\n",
       "2008    366\n",
       "2009    365\n",
       "2010    365\n",
       "2011    365\n",
       "2012    485\n",
       "2013    725\n",
       "2014    725\n",
       "2015    727\n",
       "2016    728\n",
       "2017    723\n",
       "2018    726\n",
       "2019    728\n",
       "2020    731\n",
       "2021    721\n",
       "2022    598\n",
       "Name: DATE, dtype: int64"
      ]
     },
     "execution_count": 44,
     "metadata": {},
     "output_type": "execute_result"
    }
   ],
   "source": [
    "core_weather.index.year.value_counts().sort_index()"
   ]
  },
  {
   "cell_type": "code",
   "execution_count": 45,
   "id": "73397ac5-cffd-4e79-ac6e-5c2bae6b4f96",
   "metadata": {},
   "outputs": [
    {
     "data": {
      "text/plain": [
       "<AxesSubplot:xlabel='DATE'>"
      ]
     },
     "execution_count": 45,
     "metadata": {},
     "output_type": "execute_result"
    },
    {
     "data": {
      "image/png": "[encoded data removed]",
      "text/plain": [
       "<Figure size 640x480 with 1 Axes>"
      ]
     },
     "metadata": {},
     "output_type": "display_data"
    }
   ],
   "source": [
    "core_weather[\"precip\"].plot()\n"
   ]
  },
  {
   "cell_type": "code",
   "execution_count": 46,
   "id": "e84fe4d3-6072-4a61-b25e-5ab8bf7572bf",
   "metadata": {},
   "outputs": [],
   "source": [
    "#lol apparently we don't have accurate precipitation data from 1982 to around 1990"
   ]
  },
  {
   "cell_type": "code",
   "execution_count": 47,
   "id": "a195766c-4811-4ad9-baae-35d4f0b7ffd7",
   "metadata": {},
   "outputs": [
    {
     "data": {
      "text/plain": [
       "<AxesSubplot:xlabel='DATE'>"
      ]
     },
     "execution_count": 47,
     "metadata": {},
     "output_type": "execute_result"
    },
    {
     "data": {
      "image/png": "[encoded data removed]",
      "text/plain": [
       "<Figure size 640x480 with 1 Axes>"
      ]
     },
     "metadata": {},
     "output_type": "display_data"
    }
   ],
   "source": [
    "core_weather.groupby(core_weather.index.year).apply(lambda x: x[\"precip\"].sum()).plot()"
   ]
  },
  {
   "cell_type": "code",
   "execution_count": 48,
   "id": "bfd774ea-2483-4249-b6fd-74d1cc216b08",
   "metadata": {},
   "outputs": [
    {
     "data": {
      "text/html": [
       "<div>\n",
       "<style scoped>\n",
       "    .dataframe tbody tr th:only-of-type {\n",
       "        vertical-align: middle;\n",
       "    }\n",
       "\n",
       "    .dataframe tbody tr th {\n",
       "        vertical-align: top;\n",
       "    }\n",
       "\n",
       "    .dataframe thead th {\n",
       "        text-align: right;\n",
       "    }\n",
       "</style>\n",
       "<table border=\"1\" class=\"dataframe\">\n",
       "  <thead>\n",
       "    <tr style=\"text-align: right;\">\n",
       "      <th></th>\n",
       "      <th>precip</th>\n",
       "      <th>temp_avg</th>\n",
       "      <th>temp_max</th>\n",
       "    </tr>\n",
       "    <tr>\n",
       "      <th>DATE</th>\n",
       "      <th></th>\n",
       "      <th></th>\n",
       "      <th></th>\n",
       "    </tr>\n",
       "  </thead>\n",
       "  <tbody>\n",
       "    <tr>\n",
       "      <th>1982</th>\n",
       "      <td>0.0</td>\n",
       "      <td>7556.7</td>\n",
       "      <td>8498.2</td>\n",
       "    </tr>\n",
       "    <tr>\n",
       "      <th>1983</th>\n",
       "      <td>0.0</td>\n",
       "      <td>8047.4</td>\n",
       "      <td>9272.7</td>\n",
       "    </tr>\n",
       "    <tr>\n",
       "      <th>1984</th>\n",
       "      <td>0.0</td>\n",
       "      <td>7285.2</td>\n",
       "      <td>8301.8</td>\n",
       "    </tr>\n",
       "    <tr>\n",
       "      <th>1985</th>\n",
       "      <td>0.0</td>\n",
       "      <td>7832.2</td>\n",
       "      <td>8845.4</td>\n",
       "    </tr>\n",
       "    <tr>\n",
       "      <th>1986</th>\n",
       "      <td>0.0</td>\n",
       "      <td>8211.7</td>\n",
       "      <td>9350.5</td>\n",
       "    </tr>\n",
       "    <tr>\n",
       "      <th>1987</th>\n",
       "      <td>0.0</td>\n",
       "      <td>8860.2</td>\n",
       "      <td>10202.4</td>\n",
       "    </tr>\n",
       "    <tr>\n",
       "      <th>1988</th>\n",
       "      <td>0.0</td>\n",
       "      <td>8174.9</td>\n",
       "      <td>9486.9</td>\n",
       "    </tr>\n",
       "    <tr>\n",
       "      <th>1989</th>\n",
       "      <td>36.0</td>\n",
       "      <td>8616.3</td>\n",
       "      <td>9903.4</td>\n",
       "    </tr>\n",
       "    <tr>\n",
       "      <th>1990</th>\n",
       "      <td>19.8</td>\n",
       "      <td>8525.2</td>\n",
       "      <td>9861.5</td>\n",
       "    </tr>\n",
       "    <tr>\n",
       "      <th>1991</th>\n",
       "      <td>463.7</td>\n",
       "      <td>8643.9</td>\n",
       "      <td>9920.7</td>\n",
       "    </tr>\n",
       "    <tr>\n",
       "      <th>1992</th>\n",
       "      <td>192.8</td>\n",
       "      <td>8452.7</td>\n",
       "      <td>9769.5</td>\n",
       "    </tr>\n",
       "    <tr>\n",
       "      <th>1993</th>\n",
       "      <td>483.0</td>\n",
       "      <td>8733.4</td>\n",
       "      <td>10188.3</td>\n",
       "    </tr>\n",
       "    <tr>\n",
       "      <th>1994</th>\n",
       "      <td>1737.3</td>\n",
       "      <td>8724.5</td>\n",
       "      <td>10101.0</td>\n",
       "    </tr>\n",
       "    <tr>\n",
       "      <th>1995</th>\n",
       "      <td>1049.1</td>\n",
       "      <td>8595.6</td>\n",
       "      <td>9910.7</td>\n",
       "    </tr>\n",
       "    <tr>\n",
       "      <th>1996</th>\n",
       "      <td>1514.0</td>\n",
       "      <td>8604.9</td>\n",
       "      <td>9986.0</td>\n",
       "    </tr>\n",
       "    <tr>\n",
       "      <th>1997</th>\n",
       "      <td>1869.2</td>\n",
       "      <td>8905.3</td>\n",
       "      <td>10182.0</td>\n",
       "    </tr>\n",
       "    <tr>\n",
       "      <th>1998</th>\n",
       "      <td>1269.9</td>\n",
       "      <td>9103.2</td>\n",
       "      <td>10511.1</td>\n",
       "    </tr>\n",
       "    <tr>\n",
       "      <th>1999</th>\n",
       "      <td>275.6</td>\n",
       "      <td>8880.5</td>\n",
       "      <td>10440.4</td>\n",
       "    </tr>\n",
       "    <tr>\n",
       "      <th>2000</th>\n",
       "      <td>1032.6</td>\n",
       "      <td>8615.4</td>\n",
       "      <td>10228.7</td>\n",
       "    </tr>\n",
       "    <tr>\n",
       "      <th>2001</th>\n",
       "      <td>1733.6</td>\n",
       "      <td>8585.9</td>\n",
       "      <td>10233.8</td>\n",
       "    </tr>\n",
       "    <tr>\n",
       "      <th>2002</th>\n",
       "      <td>1038.2</td>\n",
       "      <td>8764.1</td>\n",
       "      <td>10437.6</td>\n",
       "    </tr>\n",
       "    <tr>\n",
       "      <th>2003</th>\n",
       "      <td>1552.5</td>\n",
       "      <td>8918.5</td>\n",
       "      <td>10669.4</td>\n",
       "    </tr>\n",
       "    <tr>\n",
       "      <th>2004</th>\n",
       "      <td>1527.8</td>\n",
       "      <td>8467.3</td>\n",
       "      <td>10217.8</td>\n",
       "    </tr>\n",
       "    <tr>\n",
       "      <th>2005</th>\n",
       "      <td>1718.4</td>\n",
       "      <td>8574.0</td>\n",
       "      <td>10220.9</td>\n",
       "    </tr>\n",
       "    <tr>\n",
       "      <th>2006</th>\n",
       "      <td>1232.3</td>\n",
       "      <td>8894.6</td>\n",
       "      <td>10488.0</td>\n",
       "    </tr>\n",
       "    <tr>\n",
       "      <th>2007</th>\n",
       "      <td>1619.8</td>\n",
       "      <td>8899.5</td>\n",
       "      <td>10373.8</td>\n",
       "    </tr>\n",
       "    <tr>\n",
       "      <th>2008</th>\n",
       "      <td>2218.9</td>\n",
       "      <td>8591.8</td>\n",
       "      <td>10079.0</td>\n",
       "    </tr>\n",
       "    <tr>\n",
       "      <th>2009</th>\n",
       "      <td>1370.1</td>\n",
       "      <td>8992.9</td>\n",
       "      <td>10519.3</td>\n",
       "    </tr>\n",
       "    <tr>\n",
       "      <th>2010</th>\n",
       "      <td>1177.9</td>\n",
       "      <td>8963.6</td>\n",
       "      <td>10540.5</td>\n",
       "    </tr>\n",
       "    <tr>\n",
       "      <th>2011</th>\n",
       "      <td>1711.3</td>\n",
       "      <td>8432.9</td>\n",
       "      <td>9841.9</td>\n",
       "    </tr>\n",
       "    <tr>\n",
       "      <th>2012</th>\n",
       "      <td>1964.5</td>\n",
       "      <td>11628.1</td>\n",
       "      <td>14235.4</td>\n",
       "    </tr>\n",
       "    <tr>\n",
       "      <th>2013</th>\n",
       "      <td>1896.2</td>\n",
       "      <td>17478.3</td>\n",
       "      <td>22157.6</td>\n",
       "    </tr>\n",
       "    <tr>\n",
       "      <th>2014</th>\n",
       "      <td>1928.4</td>\n",
       "      <td>17544.5</td>\n",
       "      <td>22230.2</td>\n",
       "    </tr>\n",
       "    <tr>\n",
       "      <th>2015</th>\n",
       "      <td>1364.7</td>\n",
       "      <td>18251.7</td>\n",
       "      <td>21189.5</td>\n",
       "    </tr>\n",
       "    <tr>\n",
       "      <th>2016</th>\n",
       "      <td>1726.4</td>\n",
       "      <td>18100.8</td>\n",
       "      <td>22082.5</td>\n",
       "    </tr>\n",
       "    <tr>\n",
       "      <th>2017</th>\n",
       "      <td>1571.8</td>\n",
       "      <td>17828.3</td>\n",
       "      <td>20614.5</td>\n",
       "    </tr>\n",
       "    <tr>\n",
       "      <th>2018</th>\n",
       "      <td>2058.9</td>\n",
       "      <td>17958.9</td>\n",
       "      <td>20644.9</td>\n",
       "    </tr>\n",
       "    <tr>\n",
       "      <th>2019</th>\n",
       "      <td>1350.7</td>\n",
       "      <td>18453.0</td>\n",
       "      <td>21140.2</td>\n",
       "    </tr>\n",
       "    <tr>\n",
       "      <th>2020</th>\n",
       "      <td>1466.5</td>\n",
       "      <td>18227.8</td>\n",
       "      <td>21414.5</td>\n",
       "    </tr>\n",
       "    <tr>\n",
       "      <th>2021</th>\n",
       "      <td>1996.1</td>\n",
       "      <td>17960.7</td>\n",
       "      <td>20710.1</td>\n",
       "    </tr>\n",
       "    <tr>\n",
       "      <th>2022</th>\n",
       "      <td>1936.7</td>\n",
       "      <td>14979.1</td>\n",
       "      <td>17470.7</td>\n",
       "    </tr>\n",
       "  </tbody>\n",
       "</table>\n",
       "</div>"
      ],
      "text/plain": [
       "      precip  temp_avg  temp_max\n",
       "DATE                            \n",
       "1982     0.0    7556.7    8498.2\n",
       "1983     0.0    8047.4    9272.7\n",
       "1984     0.0    7285.2    8301.8\n",
       "1985     0.0    7832.2    8845.4\n",
       "1986     0.0    8211.7    9350.5\n",
       "1987     0.0    8860.2   10202.4\n",
       "1988     0.0    8174.9    9486.9\n",
       "1989    36.0    8616.3    9903.4\n",
       "1990    19.8    8525.2    9861.5\n",
       "1991   463.7    8643.9    9920.7\n",
       "1992   192.8    8452.7    9769.5\n",
       "1993   483.0    8733.4   10188.3\n",
       "1994  1737.3    8724.5   10101.0\n",
       "1995  1049.1    8595.6    9910.7\n",
       "1996  1514.0    8604.9    9986.0\n",
       "1997  1869.2    8905.3   10182.0\n",
       "1998  1269.9    9103.2   10511.1\n",
       "1999   275.6    8880.5   10440.4\n",
       "2000  1032.6    8615.4   10228.7\n",
       "2001  1733.6    8585.9   10233.8\n",
       "2002  1038.2    8764.1   10437.6\n",
       "2003  1552.5    8918.5   10669.4\n",
       "2004  1527.8    8467.3   10217.8\n",
       "2005  1718.4    8574.0   10220.9\n",
       "2006  1232.3    8894.6   10488.0\n",
       "2007  1619.8    8899.5   10373.8\n",
       "2008  2218.9    8591.8   10079.0\n",
       "2009  1370.1    8992.9   10519.3\n",
       "2010  1177.9    8963.6   10540.5\n",
       "2011  1711.3    8432.9    9841.9\n",
       "2012  1964.5   11628.1   14235.4\n",
       "2013  1896.2   17478.3   22157.6\n",
       "2014  1928.4   17544.5   22230.2\n",
       "2015  1364.7   18251.7   21189.5\n",
       "2016  1726.4   18100.8   22082.5\n",
       "2017  1571.8   17828.3   20614.5\n",
       "2018  2058.9   17958.9   20644.9\n",
       "2019  1350.7   18453.0   21140.2\n",
       "2020  1466.5   18227.8   21414.5\n",
       "2021  1996.1   17960.7   20710.1\n",
       "2022  1936.7   14979.1   17470.7"
      ]
     },
     "execution_count": 48,
     "metadata": {},
     "output_type": "execute_result"
    }
   ],
   "source": [
    "core_weather.groupby(core_weather.index.year).sum() #create one group for each year in our weather data, apply function to count up how much you get ranked"
   ]
  },
  {
   "cell_type": "code",
   "execution_count": 49,
   "id": "dd01da71-93ff-44e3-930e-b842b526c9f4",
   "metadata": {},
   "outputs": [
    {
     "data": {
      "text/plain": [
       "DATE\n",
       "1982       0.0\n",
       "1983       0.0\n",
       "1984       0.0\n",
       "1985       0.0\n",
       "1986       0.0\n",
       "1987       0.0\n",
       "1988       0.0\n",
       "1989      36.0\n",
       "1990      19.8\n",
       "1991     463.7\n",
       "1992     192.8\n",
       "1993     483.0\n",
       "1994    1737.3\n",
       "1995    1049.1\n",
       "1996    1514.0\n",
       "1997    1869.2\n",
       "1998    1269.9\n",
       "1999     275.6\n",
       "2000    1032.6\n",
       "2001    1733.6\n",
       "2002    1038.2\n",
       "2003    1552.5\n",
       "2004    1527.8\n",
       "2005    1718.4\n",
       "2006    1232.3\n",
       "2007    1619.8\n",
       "2008    2218.9\n",
       "2009    1370.1\n",
       "2010    1177.9\n",
       "2011    1711.3\n",
       "2012    1964.5\n",
       "2013    1896.2\n",
       "2014    1928.4\n",
       "2015    1364.7\n",
       "2016    1726.4\n",
       "2017    1571.8\n",
       "2018    2058.9\n",
       "2019    1350.7\n",
       "2020    1466.5\n",
       "2021    1996.1\n",
       "2022    1936.7\n",
       "Name: precip, dtype: float64"
      ]
     },
     "execution_count": 49,
     "metadata": {},
     "output_type": "execute_result"
    }
   ],
   "source": [
    "core_weather.groupby(core_weather.index.year).sum()[\"precip\"]"
   ]
  },
  {
   "cell_type": "code",
   "execution_count": 50,
   "id": "386d7f88-5763-4099-99ca-e96135dfa085",
   "metadata": {},
   "outputs": [],
   "source": [
    "#Training our first ML model"
   ]
  },
  {
   "cell_type": "code",
   "execution_count": 51,
   "id": "e9a69c3a-1514-42a4-977b-b253e2d72132",
   "metadata": {},
   "outputs": [],
   "source": [
    "#first thing is to figure out what we need to predict."
   ]
  },
  {
   "cell_type": "code",
   "execution_count": 52,
   "id": "52a8b5fe-d5a6-4070-9e74-2f07be7266b3",
   "metadata": {},
   "outputs": [],
   "source": [
    "#here i want to predict tomorrow's maximum temperature using historical data"
   ]
  },
  {
   "cell_type": "code",
   "execution_count": 53,
   "id": "1d28b228-45f1-4c2b-92eb-34038ff57ba9",
   "metadata": {},
   "outputs": [],
   "source": [
    "#create a target:\n",
    "core_weather[\"target\"] = core_weather.shift(-1)[\"temp_avg\"] #shift(-1) will pull every row back one position"
   ]
  },
  {
   "cell_type": "code",
   "execution_count": 54,
   "id": "405e35a7-433f-4daa-a76a-69fe5d5a06c6",
   "metadata": {},
   "outputs": [
    {
     "data": {
      "text/html": [
       "<div>\n",
       "<style scoped>\n",
       "    .dataframe tbody tr th:only-of-type {\n",
       "        vertical-align: middle;\n",
       "    }\n",
       "\n",
       "    .dataframe tbody tr th {\n",
       "        vertical-align: top;\n",
       "    }\n",
       "\n",
       "    .dataframe thead th {\n",
       "        text-align: right;\n",
       "    }\n",
       "</style>\n",
       "<table border=\"1\" class=\"dataframe\">\n",
       "  <thead>\n",
       "    <tr style=\"text-align: right;\">\n",
       "      <th></th>\n",
       "      <th>precip</th>\n",
       "      <th>temp_avg</th>\n",
       "      <th>temp_max</th>\n",
       "      <th>target</th>\n",
       "    </tr>\n",
       "    <tr>\n",
       "      <th>DATE</th>\n",
       "      <th></th>\n",
       "      <th></th>\n",
       "      <th></th>\n",
       "      <th></th>\n",
       "    </tr>\n",
       "  </thead>\n",
       "  <tbody>\n",
       "    <tr>\n",
       "      <th>1982-02-11</th>\n",
       "      <td>0.0</td>\n",
       "      <td>12.2</td>\n",
       "      <td>15.1</td>\n",
       "      <td>13.1</td>\n",
       "    </tr>\n",
       "    <tr>\n",
       "      <th>1982-02-12</th>\n",
       "      <td>0.0</td>\n",
       "      <td>13.1</td>\n",
       "      <td>14.1</td>\n",
       "      <td>12.4</td>\n",
       "    </tr>\n",
       "    <tr>\n",
       "      <th>1982-02-13</th>\n",
       "      <td>0.0</td>\n",
       "      <td>12.4</td>\n",
       "      <td>13.8</td>\n",
       "      <td>13.4</td>\n",
       "    </tr>\n",
       "    <tr>\n",
       "      <th>1982-02-14</th>\n",
       "      <td>0.0</td>\n",
       "      <td>13.4</td>\n",
       "      <td>15.8</td>\n",
       "      <td>13.6</td>\n",
       "    </tr>\n",
       "    <tr>\n",
       "      <th>1982-02-16</th>\n",
       "      <td>0.0</td>\n",
       "      <td>13.6</td>\n",
       "      <td>15.5</td>\n",
       "      <td>14.5</td>\n",
       "    </tr>\n",
       "    <tr>\n",
       "      <th>...</th>\n",
       "      <td>...</td>\n",
       "      <td>...</td>\n",
       "      <td>...</td>\n",
       "      <td>...</td>\n",
       "    </tr>\n",
       "    <tr>\n",
       "      <th>2022-10-26</th>\n",
       "      <td>0.0</td>\n",
       "      <td>25.4</td>\n",
       "      <td>27.4</td>\n",
       "      <td>26.1</td>\n",
       "    </tr>\n",
       "    <tr>\n",
       "      <th>2022-10-27</th>\n",
       "      <td>0.0</td>\n",
       "      <td>26.1</td>\n",
       "      <td>27.4</td>\n",
       "      <td>26.3</td>\n",
       "    </tr>\n",
       "    <tr>\n",
       "      <th>2022-10-28</th>\n",
       "      <td>0.0</td>\n",
       "      <td>26.3</td>\n",
       "      <td>27.4</td>\n",
       "      <td>25.8</td>\n",
       "    </tr>\n",
       "    <tr>\n",
       "      <th>2022-10-29</th>\n",
       "      <td>0.5</td>\n",
       "      <td>25.8</td>\n",
       "      <td>27.4</td>\n",
       "      <td>26.4</td>\n",
       "    </tr>\n",
       "    <tr>\n",
       "      <th>2022-10-30</th>\n",
       "      <td>0.0</td>\n",
       "      <td>26.4</td>\n",
       "      <td>27.4</td>\n",
       "      <td>NaN</td>\n",
       "    </tr>\n",
       "  </tbody>\n",
       "</table>\n",
       "<p>18299 rows × 4 columns</p>\n",
       "</div>"
      ],
      "text/plain": [
       "            precip  temp_avg  temp_max  target\n",
       "DATE                                          \n",
       "1982-02-11     0.0      12.2      15.1    13.1\n",
       "1982-02-12     0.0      13.1      14.1    12.4\n",
       "1982-02-13     0.0      12.4      13.8    13.4\n",
       "1982-02-14     0.0      13.4      15.8    13.6\n",
       "1982-02-16     0.0      13.6      15.5    14.5\n",
       "...            ...       ...       ...     ...\n",
       "2022-10-26     0.0      25.4      27.4    26.1\n",
       "2022-10-27     0.0      26.1      27.4    26.3\n",
       "2022-10-28     0.0      26.3      27.4    25.8\n",
       "2022-10-29     0.5      25.8      27.4    26.4\n",
       "2022-10-30     0.0      26.4      27.4     NaN\n",
       "\n",
       "[18299 rows x 4 columns]"
      ]
     },
     "execution_count": 54,
     "metadata": {},
     "output_type": "execute_result"
    }
   ],
   "source": [
    "core_weather"
   ]
  },
  {
   "cell_type": "code",
   "execution_count": 55,
   "id": "2599b976-c26d-495d-8b53-69627b71ef45",
   "metadata": {},
   "outputs": [],
   "source": [
    "#we're gonna get rid of the last row with the null value\n",
    "core_weather = core_weather.iloc[:-1,:].copy()"
   ]
  },
  {
   "cell_type": "code",
   "execution_count": 56,
   "id": "0cf9a05d-2da4-4828-b889-5cb0fa72b5c7",
   "metadata": {},
   "outputs": [
    {
     "data": {
      "text/html": [
       "<div>\n",
       "<style scoped>\n",
       "    .dataframe tbody tr th:only-of-type {\n",
       "        vertical-align: middle;\n",
       "    }\n",
       "\n",
       "    .dataframe tbody tr th {\n",
       "        vertical-align: top;\n",
       "    }\n",
       "\n",
       "    .dataframe thead th {\n",
       "        text-align: right;\n",
       "    }\n",
       "</style>\n",
       "<table border=\"1\" class=\"dataframe\">\n",
       "  <thead>\n",
       "    <tr style=\"text-align: right;\">\n",
       "      <th></th>\n",
       "      <th>precip</th>\n",
       "      <th>temp_avg</th>\n",
       "      <th>temp_max</th>\n",
       "      <th>target</th>\n",
       "    </tr>\n",
       "    <tr>\n",
       "      <th>DATE</th>\n",
       "      <th></th>\n",
       "      <th></th>\n",
       "      <th></th>\n",
       "      <th></th>\n",
       "    </tr>\n",
       "  </thead>\n",
       "  <tbody>\n",
       "    <tr>\n",
       "      <th>1982-02-11</th>\n",
       "      <td>0.0</td>\n",
       "      <td>12.2</td>\n",
       "      <td>15.1</td>\n",
       "      <td>13.1</td>\n",
       "    </tr>\n",
       "    <tr>\n",
       "      <th>1982-02-12</th>\n",
       "      <td>0.0</td>\n",
       "      <td>13.1</td>\n",
       "      <td>14.1</td>\n",
       "      <td>12.4</td>\n",
       "    </tr>\n",
       "    <tr>\n",
       "      <th>1982-02-13</th>\n",
       "      <td>0.0</td>\n",
       "      <td>12.4</td>\n",
       "      <td>13.8</td>\n",
       "      <td>13.4</td>\n",
       "    </tr>\n",
       "    <tr>\n",
       "      <th>1982-02-14</th>\n",
       "      <td>0.0</td>\n",
       "      <td>13.4</td>\n",
       "      <td>15.8</td>\n",
       "      <td>13.6</td>\n",
       "    </tr>\n",
       "    <tr>\n",
       "      <th>1982-02-16</th>\n",
       "      <td>0.0</td>\n",
       "      <td>13.6</td>\n",
       "      <td>15.5</td>\n",
       "      <td>14.5</td>\n",
       "    </tr>\n",
       "    <tr>\n",
       "      <th>...</th>\n",
       "      <td>...</td>\n",
       "      <td>...</td>\n",
       "      <td>...</td>\n",
       "      <td>...</td>\n",
       "    </tr>\n",
       "    <tr>\n",
       "      <th>2022-10-25</th>\n",
       "      <td>0.0</td>\n",
       "      <td>24.2</td>\n",
       "      <td>27.4</td>\n",
       "      <td>25.4</td>\n",
       "    </tr>\n",
       "    <tr>\n",
       "      <th>2022-10-26</th>\n",
       "      <td>0.0</td>\n",
       "      <td>25.4</td>\n",
       "      <td>27.4</td>\n",
       "      <td>26.1</td>\n",
       "    </tr>\n",
       "    <tr>\n",
       "      <th>2022-10-27</th>\n",
       "      <td>0.0</td>\n",
       "      <td>26.1</td>\n",
       "      <td>27.4</td>\n",
       "      <td>26.3</td>\n",
       "    </tr>\n",
       "    <tr>\n",
       "      <th>2022-10-28</th>\n",
       "      <td>0.0</td>\n",
       "      <td>26.3</td>\n",
       "      <td>27.4</td>\n",
       "      <td>25.8</td>\n",
       "    </tr>\n",
       "    <tr>\n",
       "      <th>2022-10-29</th>\n",
       "      <td>0.5</td>\n",
       "      <td>25.8</td>\n",
       "      <td>27.4</td>\n",
       "      <td>26.4</td>\n",
       "    </tr>\n",
       "  </tbody>\n",
       "</table>\n",
       "<p>18298 rows × 4 columns</p>\n",
       "</div>"
      ],
      "text/plain": [
       "            precip  temp_avg  temp_max  target\n",
       "DATE                                          \n",
       "1982-02-11     0.0      12.2      15.1    13.1\n",
       "1982-02-12     0.0      13.1      14.1    12.4\n",
       "1982-02-13     0.0      12.4      13.8    13.4\n",
       "1982-02-14     0.0      13.4      15.8    13.6\n",
       "1982-02-16     0.0      13.6      15.5    14.5\n",
       "...            ...       ...       ...     ...\n",
       "2022-10-25     0.0      24.2      27.4    25.4\n",
       "2022-10-26     0.0      25.4      27.4    26.1\n",
       "2022-10-27     0.0      26.1      27.4    26.3\n",
       "2022-10-28     0.0      26.3      27.4    25.8\n",
       "2022-10-29     0.5      25.8      27.4    26.4\n",
       "\n",
       "[18298 rows x 4 columns]"
      ]
     },
     "execution_count": 56,
     "metadata": {},
     "output_type": "execute_result"
    }
   ],
   "source": [
    "core_weather"
   ]
  },
  {
   "cell_type": "code",
   "execution_count": 57,
   "id": "ebc21d28-bbd0-4fe7-83af-1e6588bf6570",
   "metadata": {},
   "outputs": [],
   "source": [
    "from sklearn.linear_model import Ridge #ridge regression is a type of regression that minimizes overfitting\n",
    "reg = Ridge(alpha=.1) #=> initialize the model into variable \"reg\". alpha is a parameter that controls how much the coefficients of the regression model are penalized\n",
    "#the greater the penalty, the more overfitting is prevented"
   ]
  },
  {
   "cell_type": "code",
   "execution_count": 58,
   "id": "890b4dd4-ea4e-4193-b61a-5eb38ab4e25c",
   "metadata": {},
   "outputs": [],
   "source": [
    "#create a list called predictors:\n",
    "predictors = [\"precip\",\"temp_avg\",\"temp_max\"]"
   ]
  },
  {
   "cell_type": "code",
   "execution_count": 59,
   "id": "9f2d7cc3-db41-40b7-b2c1-5f748028d68c",
   "metadata": {},
   "outputs": [],
   "source": [
    "#split data up into training set and a test set:\n",
    "train = core_weather.loc[:\"2020-12-31\"] #training set"
   ]
  },
  {
   "cell_type": "code",
   "execution_count": 60,
   "id": "bd18d71f-6719-4856-b369-ecba045e2f2d",
   "metadata": {},
   "outputs": [],
   "source": [
    "test = core_weather.loc[\"2021-01-01\":]"
   ]
  },
  {
   "cell_type": "code",
   "execution_count": 61,
   "id": "a6f7d21c-854b-4729-92a9-b1919ae10a15",
   "metadata": {},
   "outputs": [
    {
     "data": {
      "text/html": [
       "<div>\n",
       "<style scoped>\n",
       "    .dataframe tbody tr th:only-of-type {\n",
       "        vertical-align: middle;\n",
       "    }\n",
       "\n",
       "    .dataframe tbody tr th {\n",
       "        vertical-align: top;\n",
       "    }\n",
       "\n",
       "    .dataframe thead th {\n",
       "        text-align: right;\n",
       "    }\n",
       "</style>\n",
       "<table border=\"1\" class=\"dataframe\">\n",
       "  <thead>\n",
       "    <tr style=\"text-align: right;\">\n",
       "      <th></th>\n",
       "      <th>precip</th>\n",
       "      <th>temp_avg</th>\n",
       "      <th>temp_max</th>\n",
       "      <th>target</th>\n",
       "    </tr>\n",
       "    <tr>\n",
       "      <th>DATE</th>\n",
       "      <th></th>\n",
       "      <th></th>\n",
       "      <th></th>\n",
       "      <th></th>\n",
       "    </tr>\n",
       "  </thead>\n",
       "  <tbody>\n",
       "    <tr>\n",
       "      <th>1982-02-11</th>\n",
       "      <td>0.0</td>\n",
       "      <td>12.2</td>\n",
       "      <td>15.1</td>\n",
       "      <td>13.1</td>\n",
       "    </tr>\n",
       "    <tr>\n",
       "      <th>1982-02-12</th>\n",
       "      <td>0.0</td>\n",
       "      <td>13.1</td>\n",
       "      <td>14.1</td>\n",
       "      <td>12.4</td>\n",
       "    </tr>\n",
       "    <tr>\n",
       "      <th>1982-02-13</th>\n",
       "      <td>0.0</td>\n",
       "      <td>12.4</td>\n",
       "      <td>13.8</td>\n",
       "      <td>13.4</td>\n",
       "    </tr>\n",
       "    <tr>\n",
       "      <th>1982-02-14</th>\n",
       "      <td>0.0</td>\n",
       "      <td>13.4</td>\n",
       "      <td>15.8</td>\n",
       "      <td>13.6</td>\n",
       "    </tr>\n",
       "    <tr>\n",
       "      <th>1982-02-16</th>\n",
       "      <td>0.0</td>\n",
       "      <td>13.6</td>\n",
       "      <td>15.5</td>\n",
       "      <td>14.5</td>\n",
       "    </tr>\n",
       "    <tr>\n",
       "      <th>...</th>\n",
       "      <td>...</td>\n",
       "      <td>...</td>\n",
       "      <td>...</td>\n",
       "      <td>...</td>\n",
       "    </tr>\n",
       "    <tr>\n",
       "      <th>2020-12-27</th>\n",
       "      <td>0.3</td>\n",
       "      <td>19.9</td>\n",
       "      <td>29.0</td>\n",
       "      <td>22.0</td>\n",
       "    </tr>\n",
       "    <tr>\n",
       "      <th>2020-12-28</th>\n",
       "      <td>0.0</td>\n",
       "      <td>22.0</td>\n",
       "      <td>29.0</td>\n",
       "      <td>23.1</td>\n",
       "    </tr>\n",
       "    <tr>\n",
       "      <th>2020-12-29</th>\n",
       "      <td>0.0</td>\n",
       "      <td>23.1</td>\n",
       "      <td>29.0</td>\n",
       "      <td>17.2</td>\n",
       "    </tr>\n",
       "    <tr>\n",
       "      <th>2020-12-30</th>\n",
       "      <td>2.5</td>\n",
       "      <td>17.2</td>\n",
       "      <td>19.5</td>\n",
       "      <td>14.1</td>\n",
       "    </tr>\n",
       "    <tr>\n",
       "      <th>2020-12-31</th>\n",
       "      <td>0.0</td>\n",
       "      <td>14.1</td>\n",
       "      <td>19.5</td>\n",
       "      <td>12.4</td>\n",
       "    </tr>\n",
       "  </tbody>\n",
       "</table>\n",
       "<p>16980 rows × 4 columns</p>\n",
       "</div>"
      ],
      "text/plain": [
       "            precip  temp_avg  temp_max  target\n",
       "DATE                                          \n",
       "1982-02-11     0.0      12.2      15.1    13.1\n",
       "1982-02-12     0.0      13.1      14.1    12.4\n",
       "1982-02-13     0.0      12.4      13.8    13.4\n",
       "1982-02-14     0.0      13.4      15.8    13.6\n",
       "1982-02-16     0.0      13.6      15.5    14.5\n",
       "...            ...       ...       ...     ...\n",
       "2020-12-27     0.3      19.9      29.0    22.0\n",
       "2020-12-28     0.0      22.0      29.0    23.1\n",
       "2020-12-29     0.0      23.1      29.0    17.2\n",
       "2020-12-30     2.5      17.2      19.5    14.1\n",
       "2020-12-31     0.0      14.1      19.5    12.4\n",
       "\n",
       "[16980 rows x 4 columns]"
      ]
     },
     "execution_count": 61,
     "metadata": {},
     "output_type": "execute_result"
    }
   ],
   "source": [
    "train"
   ]
  },
  {
   "cell_type": "code",
   "execution_count": 62,
   "id": "2c21c5aa-2791-4d73-a06c-8897b4c16e09",
   "metadata": {},
   "outputs": [
    {
     "data": {
      "text/html": [
       "<div>\n",
       "<style scoped>\n",
       "    .dataframe tbody tr th:only-of-type {\n",
       "        vertical-align: middle;\n",
       "    }\n",
       "\n",
       "    .dataframe tbody tr th {\n",
       "        vertical-align: top;\n",
       "    }\n",
       "\n",
       "    .dataframe thead th {\n",
       "        text-align: right;\n",
       "    }\n",
       "</style>\n",
       "<table border=\"1\" class=\"dataframe\">\n",
       "  <thead>\n",
       "    <tr style=\"text-align: right;\">\n",
       "      <th></th>\n",
       "      <th>precip</th>\n",
       "      <th>temp_avg</th>\n",
       "      <th>temp_max</th>\n",
       "      <th>target</th>\n",
       "    </tr>\n",
       "    <tr>\n",
       "      <th>DATE</th>\n",
       "      <th></th>\n",
       "      <th></th>\n",
       "      <th></th>\n",
       "      <th></th>\n",
       "    </tr>\n",
       "  </thead>\n",
       "  <tbody>\n",
       "    <tr>\n",
       "      <th>2021-01-01</th>\n",
       "      <td>0.0</td>\n",
       "      <td>13.1</td>\n",
       "      <td>29.5</td>\n",
       "      <td>14.1</td>\n",
       "    </tr>\n",
       "    <tr>\n",
       "      <th>2021-01-02</th>\n",
       "      <td>0.0</td>\n",
       "      <td>14.1</td>\n",
       "      <td>29.5</td>\n",
       "      <td>16.1</td>\n",
       "    </tr>\n",
       "    <tr>\n",
       "      <th>2021-01-03</th>\n",
       "      <td>0.0</td>\n",
       "      <td>16.1</td>\n",
       "      <td>29.5</td>\n",
       "      <td>16.8</td>\n",
       "    </tr>\n",
       "    <tr>\n",
       "      <th>2021-01-04</th>\n",
       "      <td>0.0</td>\n",
       "      <td>16.8</td>\n",
       "      <td>29.5</td>\n",
       "      <td>17.5</td>\n",
       "    </tr>\n",
       "    <tr>\n",
       "      <th>2021-01-05</th>\n",
       "      <td>0.0</td>\n",
       "      <td>17.5</td>\n",
       "      <td>29.5</td>\n",
       "      <td>16.2</td>\n",
       "    </tr>\n",
       "    <tr>\n",
       "      <th>...</th>\n",
       "      <td>...</td>\n",
       "      <td>...</td>\n",
       "      <td>...</td>\n",
       "      <td>...</td>\n",
       "    </tr>\n",
       "    <tr>\n",
       "      <th>2022-10-25</th>\n",
       "      <td>0.0</td>\n",
       "      <td>24.2</td>\n",
       "      <td>27.4</td>\n",
       "      <td>25.4</td>\n",
       "    </tr>\n",
       "    <tr>\n",
       "      <th>2022-10-26</th>\n",
       "      <td>0.0</td>\n",
       "      <td>25.4</td>\n",
       "      <td>27.4</td>\n",
       "      <td>26.1</td>\n",
       "    </tr>\n",
       "    <tr>\n",
       "      <th>2022-10-27</th>\n",
       "      <td>0.0</td>\n",
       "      <td>26.1</td>\n",
       "      <td>27.4</td>\n",
       "      <td>26.3</td>\n",
       "    </tr>\n",
       "    <tr>\n",
       "      <th>2022-10-28</th>\n",
       "      <td>0.0</td>\n",
       "      <td>26.3</td>\n",
       "      <td>27.4</td>\n",
       "      <td>25.8</td>\n",
       "    </tr>\n",
       "    <tr>\n",
       "      <th>2022-10-29</th>\n",
       "      <td>0.5</td>\n",
       "      <td>25.8</td>\n",
       "      <td>27.4</td>\n",
       "      <td>26.4</td>\n",
       "    </tr>\n",
       "  </tbody>\n",
       "</table>\n",
       "<p>1318 rows × 4 columns</p>\n",
       "</div>"
      ],
      "text/plain": [
       "            precip  temp_avg  temp_max  target\n",
       "DATE                                          \n",
       "2021-01-01     0.0      13.1      29.5    14.1\n",
       "2021-01-02     0.0      14.1      29.5    16.1\n",
       "2021-01-03     0.0      16.1      29.5    16.8\n",
       "2021-01-04     0.0      16.8      29.5    17.5\n",
       "2021-01-05     0.0      17.5      29.5    16.2\n",
       "...            ...       ...       ...     ...\n",
       "2022-10-25     0.0      24.2      27.4    25.4\n",
       "2022-10-26     0.0      25.4      27.4    26.1\n",
       "2022-10-27     0.0      26.1      27.4    26.3\n",
       "2022-10-28     0.0      26.3      27.4    25.8\n",
       "2022-10-29     0.5      25.8      27.4    26.4\n",
       "\n",
       "[1318 rows x 4 columns]"
      ]
     },
     "execution_count": 62,
     "metadata": {},
     "output_type": "execute_result"
    }
   ],
   "source": [
    "test"
   ]
  },
  {
   "cell_type": "code",
   "execution_count": 63,
   "id": "13f778cb-dacd-4b92-8793-e45ccd1804ee",
   "metadata": {},
   "outputs": [
    {
     "data": {
      "text/plain": [
       "Ridge(alpha=0.1)"
      ]
     },
     "execution_count": 63,
     "metadata": {},
     "output_type": "execute_result"
    }
   ],
   "source": [
    "#call the fit method on our regression model, fit it to our training data set with our predictors, and predict our target:\n",
    "reg.fit(train[predictors],train[\"target\"])"
   ]
  },
  {
   "cell_type": "code",
   "execution_count": 64,
   "id": "5e7f0d57-afcf-4b27-b9f2-5b2a98b90a24",
   "metadata": {},
   "outputs": [],
   "source": [
    "#so our model has been fitted.\n",
    "#now we can generate predictions on our test data set using the predictor columns\n",
    "predictions = reg.predict(test[predictors])"
   ]
  },
  {
   "cell_type": "code",
   "execution_count": 65,
   "id": "3f6cdb2d-4a39-4f8a-b62f-f6b8e37a8ae7",
   "metadata": {},
   "outputs": [],
   "source": [
    "#now we have our predictions, we can see how well we did, and we'll use mean absolute error to do that\n",
    "from sklearn.metrics import mean_absolute_error"
   ]
  },
  {
   "cell_type": "code",
   "execution_count": 66,
   "id": "ea66f02e-f241-4903-a1a0-7db8686c17d0",
   "metadata": {},
   "outputs": [],
   "source": [
    "#mean absolute error is basically subtract the actual from the predictions, take the absolute value and find the average of that across all of the predictions"
   ]
  },
  {
   "cell_type": "code",
   "execution_count": 67,
   "id": "f08879bd-33bd-4692-a1df-525ec1a328d8",
   "metadata": {},
   "outputs": [
    {
     "data": {
      "text/plain": [
       "1.3531170476068153"
      ]
     },
     "execution_count": 67,
     "metadata": {},
     "output_type": "execute_result"
    }
   ],
   "source": [
    "#so target is our actual value:\n",
    "mean_absolute_error(test[\"target\"],predictions)"
   ]
  },
  {
   "cell_type": "code",
   "execution_count": 68,
   "id": "f436ff4b-e5fb-4509-8e97-3ed43988cc5a",
   "metadata": {},
   "outputs": [],
   "source": [
    "#this means on average we're about 1.35 off the actual temperature. NOT BAD."
   ]
  },
  {
   "cell_type": "code",
   "execution_count": 69,
   "id": "af8ebefe-9a30-4a68-87ae-970dc5f3ff0a",
   "metadata": {},
   "outputs": [],
   "source": [
    "#EVALUATING OUR MODEL"
   ]
  },
  {
   "cell_type": "code",
   "execution_count": 70,
   "id": "bf2029fe-6170-4f0b-aeda-1ddd7fe0639f",
   "metadata": {},
   "outputs": [],
   "source": [
    "#now let's combine our actuals and our predictions to see the actual values and the predictions side by side\n",
    "#we're gonna concatenate the actuals which are test target with the predictions\n",
    "#but to concatenate the predictions, we need to convert it from numpy arrays to a panda series with the same index as our test data\n",
    "#we're gonna concatenate them on axis 1, which means each series is a column\n",
    "combined = pd.concat([test[\"target\"], pd.Series(predictions, index=test.index)], axis=1)\n",
    "combined.columns = [\"actual\",\"predictions\"]"
   ]
  },
  {
   "cell_type": "code",
   "execution_count": 71,
   "id": "aa7bdf9a-df66-4e8a-a614-4e80d4fcdd33",
   "metadata": {},
   "outputs": [
    {
     "data": {
      "text/html": [
       "<div>\n",
       "<style scoped>\n",
       "    .dataframe tbody tr th:only-of-type {\n",
       "        vertical-align: middle;\n",
       "    }\n",
       "\n",
       "    .dataframe tbody tr th {\n",
       "        vertical-align: top;\n",
       "    }\n",
       "\n",
       "    .dataframe thead th {\n",
       "        text-align: right;\n",
       "    }\n",
       "</style>\n",
       "<table border=\"1\" class=\"dataframe\">\n",
       "  <thead>\n",
       "    <tr style=\"text-align: right;\">\n",
       "      <th></th>\n",
       "      <th>actual</th>\n",
       "      <th>predictions</th>\n",
       "    </tr>\n",
       "    <tr>\n",
       "      <th>DATE</th>\n",
       "      <th></th>\n",
       "      <th></th>\n",
       "    </tr>\n",
       "  </thead>\n",
       "  <tbody>\n",
       "    <tr>\n",
       "      <th>2021-01-01</th>\n",
       "      <td>14.1</td>\n",
       "      <td>13.684409</td>\n",
       "    </tr>\n",
       "    <tr>\n",
       "      <th>2021-01-02</th>\n",
       "      <td>16.1</td>\n",
       "      <td>14.628490</td>\n",
       "    </tr>\n",
       "    <tr>\n",
       "      <th>2021-01-03</th>\n",
       "      <td>16.8</td>\n",
       "      <td>16.516654</td>\n",
       "    </tr>\n",
       "    <tr>\n",
       "      <th>2021-01-04</th>\n",
       "      <td>17.5</td>\n",
       "      <td>17.177511</td>\n",
       "    </tr>\n",
       "    <tr>\n",
       "      <th>2021-01-05</th>\n",
       "      <td>16.2</td>\n",
       "      <td>17.838368</td>\n",
       "    </tr>\n",
       "    <tr>\n",
       "      <th>...</th>\n",
       "      <td>...</td>\n",
       "      <td>...</td>\n",
       "    </tr>\n",
       "    <tr>\n",
       "      <th>2022-10-25</th>\n",
       "      <td>25.4</td>\n",
       "      <td>24.170009</td>\n",
       "    </tr>\n",
       "    <tr>\n",
       "      <th>2022-10-26</th>\n",
       "      <td>26.1</td>\n",
       "      <td>25.302907</td>\n",
       "    </tr>\n",
       "    <tr>\n",
       "      <th>2022-10-27</th>\n",
       "      <td>26.3</td>\n",
       "      <td>25.963764</td>\n",
       "    </tr>\n",
       "    <tr>\n",
       "      <th>2022-10-28</th>\n",
       "      <td>25.8</td>\n",
       "      <td>26.152581</td>\n",
       "    </tr>\n",
       "    <tr>\n",
       "      <th>2022-10-29</th>\n",
       "      <td>26.4</td>\n",
       "      <td>25.687742</td>\n",
       "    </tr>\n",
       "  </tbody>\n",
       "</table>\n",
       "<p>1318 rows × 2 columns</p>\n",
       "</div>"
      ],
      "text/plain": [
       "            actual  predictions\n",
       "DATE                           \n",
       "2021-01-01    14.1    13.684409\n",
       "2021-01-02    16.1    14.628490\n",
       "2021-01-03    16.8    16.516654\n",
       "2021-01-04    17.5    17.177511\n",
       "2021-01-05    16.2    17.838368\n",
       "...            ...          ...\n",
       "2022-10-25    25.4    24.170009\n",
       "2022-10-26    26.1    25.302907\n",
       "2022-10-27    26.3    25.963764\n",
       "2022-10-28    25.8    26.152581\n",
       "2022-10-29    26.4    25.687742\n",
       "\n",
       "[1318 rows x 2 columns]"
      ]
     },
     "execution_count": 71,
     "metadata": {},
     "output_type": "execute_result"
    }
   ],
   "source": [
    "combined"
   ]
  },
  {
   "cell_type": "code",
   "execution_count": 72,
   "id": "6df83c05-1ce7-4c1a-ac84-25d2b55aa523",
   "metadata": {},
   "outputs": [
    {
     "data": {
      "text/plain": [
       "<AxesSubplot:xlabel='DATE'>"
      ]
     },
     "execution_count": 72,
     "metadata": {},
     "output_type": "execute_result"
    },
    {
     "data": {
      "image/png": "[encoded data removed]",
      "text/plain": [
       "<Figure size 640x480 with 1 Axes>"
      ]
     },
     "metadata": {},
     "output_type": "display_data"
    }
   ],
   "source": [
    "combined.plot()"
   ]
  },
  {
   "cell_type": "code",
   "execution_count": 73,
   "id": "c9fdb14c-6217-4ff9-bb1a-ca91cc27238a",
   "metadata": {},
   "outputs": [
    {
     "data": {
      "text/plain": [
       "array([ 0.01440469,  0.94408164, -0.00299724])"
      ]
     },
     "execution_count": 73,
     "metadata": {},
     "output_type": "execute_result"
    }
   ],
   "source": [
    "#we can take a look at our coefficients of the regression model to see how the different variables are being used by the model\n",
    "reg.coef_"
   ]
  },
  {
   "cell_type": "code",
   "execution_count": 74,
   "id": "fbf72c53-8587-41e1-85c6-0d02ff0dfc50",
   "metadata": {},
   "outputs": [],
   "source": [
    "#so precipitation has positive impact on temperature (i guess it makes sense? cuz in hanoi it tends to rain more in the summer)\n",
    "#temp_avg is obviously the biggest imput here => the previous day average temperature is a big input to tomorrow's  avg temp\n",
    "#and the maximum temperature has negative impact cuz obviously it is higher than average temp."
   ]
  },
  {
   "cell_type": "code",
   "execution_count": 75,
   "id": "ee912bbf-f017-4631-adc3-6220c7270642",
   "metadata": {},
   "outputs": [],
   "source": [
    "#what is the average maximum temperature this month? we can use a rolling mean\n",
    "#use panda's rolling method to find a rolling mean for a certain  period\n",
    "#what this will do is it'll look back 30 days from each day and then find the average of a certain column during that period\n",
    "core_weather[\"month_avg\"] = core_weather[\"temp_avg\"].rolling(30).mean()\n",
    "#what this says is for the temperature max column for the 30 days before every row, find the rolling mean and assign to the month_max variable"
   ]
  },
  {
   "cell_type": "code",
   "execution_count": 76,
   "id": "2a594e6f-6e14-4d74-a2ed-b7a2c0efdcaf",
   "metadata": {},
   "outputs": [],
   "source": [
    "#for this day, was the temperature different from the month monthly mean or not?\n",
    "core_weather[\"month_day_avg\"] = core_weather[\"month_avg\"]/core_weather[\"temp_avg\"]"
   ]
  },
  {
   "cell_type": "code",
   "execution_count": 77,
   "id": "a6eabd99-1080-4090-9568-8c41b6345e0e",
   "metadata": {},
   "outputs": [],
   "source": [
    "#ratio between max and average temp (i don't use min cuz apparently i deleted min, as there were too many missing data)\n",
    "core_weather[\"avg_max\"] = core_weather[\"temp_avg\"]/core_weather[\"temp_max\"]"
   ]
  },
  {
   "cell_type": "code",
   "execution_count": 78,
   "id": "8e174a2c-158e-4698-bf21-fa27fd85545a",
   "metadata": {},
   "outputs": [],
   "source": [
    "#before using the create prediction function, we need to deal with the null values\n",
    "#remove first 30 rows:\n",
    "core_weather = core_weather.iloc[30:,:].copy()"
   ]
  },
  {
   "cell_type": "code",
   "execution_count": 79,
   "id": "a3d2f4be-2a70-486b-a71a-df2225abb367",
   "metadata": {},
   "outputs": [],
   "source": [
    "#CREATING A FUNCTION TO MAKE PREDICTIONS"
   ]
  },
  {
   "cell_type": "code",
   "execution_count": 80,
   "id": "8f7f50a9-3379-47be-996c-b25da186b232",
   "metadata": {},
   "outputs": [],
   "source": [
    "#let's create a function to wrap up everything we did (splitting the training and test set, generating the predictions, then combine)\n",
    "def create_predictions(predictors, core_weather, reg):\n",
    "    train = core_weather.loc[:\"2020-12-31\"]\n",
    "    test = core_weather.loc[\"2021-01-01\":]\n",
    "    \n",
    "    reg.fit(train[predictors],train[\"target\"])\n",
    "    predictions = reg.predict(test[predictors])\n",
    "    \n",
    "    error = mean_absolute_error(test[\"target\"],predictions)\n",
    "    \n",
    "    combined = pd.concat([test[\"target\"], pd.Series(predictions, index=test.index)],axis=1)\n",
    "    combined.columns = [\"actual\",\"predictions\"]\n",
    "    return error, combined"
   ]
  },
  {
   "cell_type": "code",
   "execution_count": 81,
   "id": "d18ffeba-04a6-4cf0-a450-4c672549f0f3",
   "metadata": {},
   "outputs": [
    {
     "data": {
      "text/plain": [
       "1.351921704105601"
      ]
     },
     "execution_count": 81,
     "metadata": {},
     "output_type": "execute_result"
    }
   ],
   "source": [
    "predictors = [\"precip\",\"temp_avg\",\"temp_max\",\"month_avg\"]\n",
    "#at first i included avg_max and month_day_avg but somehow they increased the error,\n",
    "#so i decided to remove them\n",
    "error, combined = create_predictions(predictors, core_weather, reg)\n",
    "error"
   ]
  },
  {
   "cell_type": "code",
   "execution_count": 82,
   "id": "f88e322e-c88a-4e61-b20c-97b79cb0c20c",
   "metadata": {},
   "outputs": [
    {
     "data": {
      "text/plain": [
       "<AxesSubplot:xlabel='DATE'>"
      ]
     },
     "execution_count": 82,
     "metadata": {},
     "output_type": "execute_result"
    },
    {
     "data": {
      "image/png": "[encoded data removed]",
      "text/plain": [
       "<Figure size 640x480 with 1 Axes>"
      ]
     },
     "metadata": {},
     "output_type": "display_data"
    }
   ],
   "source": [
    "combined.plot()"
   ]
  },
  {
   "cell_type": "code",
   "execution_count": 83,
   "id": "019223e5-f135-45ed-a698-cb02646a6cf3",
   "metadata": {},
   "outputs": [],
   "source": [
    "#ADDING IN MONTHLY AND DAILY AVERAGES"
   ]
  },
  {
   "cell_type": "code",
   "execution_count": 84,
   "id": "4fb992a1-79b4-4a8d-95cd-890eab61f543",
   "metadata": {},
   "outputs": [
    {
     "data": {
      "text/html": [
       "<div>\n",
       "<style scoped>\n",
       "    .dataframe tbody tr th:only-of-type {\n",
       "        vertical-align: middle;\n",
       "    }\n",
       "\n",
       "    .dataframe tbody tr th {\n",
       "        vertical-align: top;\n",
       "    }\n",
       "\n",
       "    .dataframe thead th {\n",
       "        text-align: right;\n",
       "    }\n",
       "</style>\n",
       "<table border=\"1\" class=\"dataframe\">\n",
       "  <thead>\n",
       "    <tr style=\"text-align: right;\">\n",
       "      <th></th>\n",
       "      <th>precip</th>\n",
       "      <th>temp_avg</th>\n",
       "      <th>temp_max</th>\n",
       "      <th>target</th>\n",
       "      <th>month_avg</th>\n",
       "      <th>month_day_avg</th>\n",
       "      <th>avg_max</th>\n",
       "    </tr>\n",
       "    <tr>\n",
       "      <th>DATE</th>\n",
       "      <th></th>\n",
       "      <th></th>\n",
       "      <th></th>\n",
       "      <th></th>\n",
       "      <th></th>\n",
       "      <th></th>\n",
       "      <th></th>\n",
       "    </tr>\n",
       "  </thead>\n",
       "  <tbody>\n",
       "    <tr>\n",
       "      <th>1982-03-17</th>\n",
       "      <td>0.0</td>\n",
       "      <td>23.2</td>\n",
       "      <td>16.7</td>\n",
       "      <td>23.2</td>\n",
       "      <td>18.393333</td>\n",
       "      <td>0.792816</td>\n",
       "      <td>1.389222</td>\n",
       "    </tr>\n",
       "    <tr>\n",
       "      <th>1982-03-18</th>\n",
       "      <td>0.0</td>\n",
       "      <td>23.2</td>\n",
       "      <td>26.0</td>\n",
       "      <td>23.4</td>\n",
       "      <td>18.730000</td>\n",
       "      <td>0.807328</td>\n",
       "      <td>0.892308</td>\n",
       "    </tr>\n",
       "    <tr>\n",
       "      <th>1982-03-19</th>\n",
       "      <td>0.0</td>\n",
       "      <td>23.4</td>\n",
       "      <td>26.0</td>\n",
       "      <td>23.4</td>\n",
       "      <td>19.096667</td>\n",
       "      <td>0.816097</td>\n",
       "      <td>0.900000</td>\n",
       "    </tr>\n",
       "    <tr>\n",
       "      <th>1982-03-20</th>\n",
       "      <td>0.0</td>\n",
       "      <td>23.4</td>\n",
       "      <td>26.0</td>\n",
       "      <td>22.7</td>\n",
       "      <td>19.430000</td>\n",
       "      <td>0.830342</td>\n",
       "      <td>0.900000</td>\n",
       "    </tr>\n",
       "    <tr>\n",
       "      <th>1982-03-21</th>\n",
       "      <td>0.0</td>\n",
       "      <td>22.7</td>\n",
       "      <td>26.0</td>\n",
       "      <td>22.5</td>\n",
       "      <td>19.733333</td>\n",
       "      <td>0.869310</td>\n",
       "      <td>0.873077</td>\n",
       "    </tr>\n",
       "    <tr>\n",
       "      <th>...</th>\n",
       "      <td>...</td>\n",
       "      <td>...</td>\n",
       "      <td>...</td>\n",
       "      <td>...</td>\n",
       "      <td>...</td>\n",
       "      <td>...</td>\n",
       "      <td>...</td>\n",
       "    </tr>\n",
       "    <tr>\n",
       "      <th>2022-10-25</th>\n",
       "      <td>0.0</td>\n",
       "      <td>24.2</td>\n",
       "      <td>27.4</td>\n",
       "      <td>25.4</td>\n",
       "      <td>26.000000</td>\n",
       "      <td>1.074380</td>\n",
       "      <td>0.883212</td>\n",
       "    </tr>\n",
       "    <tr>\n",
       "      <th>2022-10-26</th>\n",
       "      <td>0.0</td>\n",
       "      <td>25.4</td>\n",
       "      <td>27.4</td>\n",
       "      <td>26.1</td>\n",
       "      <td>25.840000</td>\n",
       "      <td>1.017323</td>\n",
       "      <td>0.927007</td>\n",
       "    </tr>\n",
       "    <tr>\n",
       "      <th>2022-10-27</th>\n",
       "      <td>0.0</td>\n",
       "      <td>26.1</td>\n",
       "      <td>27.4</td>\n",
       "      <td>26.3</td>\n",
       "      <td>25.690000</td>\n",
       "      <td>0.984291</td>\n",
       "      <td>0.952555</td>\n",
       "    </tr>\n",
       "    <tr>\n",
       "      <th>2022-10-28</th>\n",
       "      <td>0.0</td>\n",
       "      <td>26.3</td>\n",
       "      <td>27.4</td>\n",
       "      <td>25.8</td>\n",
       "      <td>25.623333</td>\n",
       "      <td>0.974271</td>\n",
       "      <td>0.959854</td>\n",
       "    </tr>\n",
       "    <tr>\n",
       "      <th>2022-10-29</th>\n",
       "      <td>0.5</td>\n",
       "      <td>25.8</td>\n",
       "      <td>27.4</td>\n",
       "      <td>26.4</td>\n",
       "      <td>25.573333</td>\n",
       "      <td>0.991214</td>\n",
       "      <td>0.941606</td>\n",
       "    </tr>\n",
       "  </tbody>\n",
       "</table>\n",
       "<p>18268 rows × 7 columns</p>\n",
       "</div>"
      ],
      "text/plain": [
       "            precip  temp_avg  temp_max  target  month_avg  month_day_avg  \\\n",
       "DATE                                                                       \n",
       "1982-03-17     0.0      23.2      16.7    23.2  18.393333       0.792816   \n",
       "1982-03-18     0.0      23.2      26.0    23.4  18.730000       0.807328   \n",
       "1982-03-19     0.0      23.4      26.0    23.4  19.096667       0.816097   \n",
       "1982-03-20     0.0      23.4      26.0    22.7  19.430000       0.830342   \n",
       "1982-03-21     0.0      22.7      26.0    22.5  19.733333       0.869310   \n",
       "...            ...       ...       ...     ...        ...            ...   \n",
       "2022-10-25     0.0      24.2      27.4    25.4  26.000000       1.074380   \n",
       "2022-10-26     0.0      25.4      27.4    26.1  25.840000       1.017323   \n",
       "2022-10-27     0.0      26.1      27.4    26.3  25.690000       0.984291   \n",
       "2022-10-28     0.0      26.3      27.4    25.8  25.623333       0.974271   \n",
       "2022-10-29     0.5      25.8      27.4    26.4  25.573333       0.991214   \n",
       "\n",
       "             avg_max  \n",
       "DATE                  \n",
       "1982-03-17  1.389222  \n",
       "1982-03-18  0.892308  \n",
       "1982-03-19  0.900000  \n",
       "1982-03-20  0.900000  \n",
       "1982-03-21  0.873077  \n",
       "...              ...  \n",
       "2022-10-25  0.883212  \n",
       "2022-10-26  0.927007  \n",
       "2022-10-27  0.952555  \n",
       "2022-10-28  0.959854  \n",
       "2022-10-29  0.941606  \n",
       "\n",
       "[18268 rows x 7 columns]"
      ]
     },
     "execution_count": 84,
     "metadata": {},
     "output_type": "execute_result"
    }
   ],
   "source": [
    "core_weather"
   ]
  },
  {
   "cell_type": "code",
   "execution_count": 91,
   "id": "5192ba8c-0be5-4c75-be87-80b1fb343858",
   "metadata": {},
   "outputs": [
    {
     "name": "stderr",
     "output_type": "stream",
     "text": [
      "/tmp/ipykernel_786367/3723808579.py:1: FutureWarning: reindexing with a non-unique Index is deprecated and will raise in a future version.\n",
      "  core_weather[\"monthly_avg\"] = core_weather[\"temp_max\"].groupby(core_weather.index.month).apply(lambda x: x.expanding(1).mean()).copy()\n"
     ]
    },
    {
     "ename": "ValueError",
     "evalue": "cannot reindex on an axis with duplicate labels",
     "output_type": "error",
     "traceback": [
      "\u001b[0;31m---------------------------------------------------------------------------\u001b[0m",
      "\u001b[0;31mValueError\u001b[0m                                Traceback (most recent call last)",
      "\u001b[0;32m/tmp/ipykernel_786367/3723808579.py\u001b[0m in \u001b[0;36m<module>\u001b[0;34m\u001b[0m\n\u001b[0;32m----> 1\u001b[0;31m \u001b[0mcore_weather\u001b[0m\u001b[0;34m[\u001b[0m\u001b[0;34m\"monthly_avg\"\u001b[0m\u001b[0;34m]\u001b[0m \u001b[0;34m=\u001b[0m \u001b[0mcore_weather\u001b[0m\u001b[0;34m[\u001b[0m\u001b[0;34m\"temp_max\"\u001b[0m\u001b[0;34m]\u001b[0m\u001b[0;34m.\u001b[0m\u001b[0mgroupby\u001b[0m\u001b[0;34m(\u001b[0m\u001b[0mcore_weather\u001b[0m\u001b[0;34m.\u001b[0m\u001b[0mindex\u001b[0m\u001b[0;34m.\u001b[0m\u001b[0mmonth\u001b[0m\u001b[0;34m)\u001b[0m\u001b[0;34m.\u001b[0m\u001b[0mapply\u001b[0m\u001b[0;34m(\u001b[0m\u001b[0;32mlambda\u001b[0m \u001b[0mx\u001b[0m\u001b[0;34m:\u001b[0m \u001b[0mx\u001b[0m\u001b[0;34m.\u001b[0m\u001b[0mexpanding\u001b[0m\u001b[0;34m(\u001b[0m\u001b[0;36m1\u001b[0m\u001b[0;34m)\u001b[0m\u001b[0;34m.\u001b[0m\u001b[0mmean\u001b[0m\u001b[0;34m(\u001b[0m\u001b[0;34m)\u001b[0m\u001b[0;34m)\u001b[0m\u001b[0;34m.\u001b[0m\u001b[0mcopy\u001b[0m\u001b[0;34m(\u001b[0m\u001b[0;34m)\u001b[0m\u001b[0;34m\u001b[0m\u001b[0;34m\u001b[0m\u001b[0m\n\u001b[0m\u001b[1;32m      2\u001b[0m \u001b[0;31m#what the function in apply() does is just take the previous rows and calculates the mean\u001b[0m\u001b[0;34m\u001b[0m\u001b[0;34m\u001b[0m\u001b[0m\n\u001b[1;32m      3\u001b[0m \u001b[0;31m#this is to make sure that we're using past data to predict, not using future knowledge\u001b[0m\u001b[0;34m\u001b[0m\u001b[0;34m\u001b[0m\u001b[0m\n",
      "\u001b[0;32m~/anaconda3/lib/python3.9/site-packages/pandas/core/frame.py\u001b[0m in \u001b[0;36m__setitem__\u001b[0;34m(self, key, value)\u001b[0m\n\u001b[1;32m   3653\u001b[0m         \u001b[0;32melse\u001b[0m\u001b[0;34m:\u001b[0m\u001b[0;34m\u001b[0m\u001b[0;34m\u001b[0m\u001b[0m\n\u001b[1;32m   3654\u001b[0m             \u001b[0;31m# set column\u001b[0m\u001b[0;34m\u001b[0m\u001b[0;34m\u001b[0m\u001b[0m\n\u001b[0;32m-> 3655\u001b[0;31m             \u001b[0mself\u001b[0m\u001b[0;34m.\u001b[0m\u001b[0m_set_item\u001b[0m\u001b[0;34m(\u001b[0m\u001b[0mkey\u001b[0m\u001b[0;34m,\u001b[0m \u001b[0mvalue\u001b[0m\u001b[0;34m)\u001b[0m\u001b[0;34m\u001b[0m\u001b[0;34m\u001b[0m\u001b[0m\n\u001b[0m\u001b[1;32m   3656\u001b[0m \u001b[0;34m\u001b[0m\u001b[0m\n\u001b[1;32m   3657\u001b[0m     \u001b[0;32mdef\u001b[0m \u001b[0m_setitem_slice\u001b[0m\u001b[0;34m(\u001b[0m\u001b[0mself\u001b[0m\u001b[0;34m,\u001b[0m \u001b[0mkey\u001b[0m\u001b[0;34m:\u001b[0m \u001b[0mslice\u001b[0m\u001b[0;34m,\u001b[0m \u001b[0mvalue\u001b[0m\u001b[0;34m)\u001b[0m\u001b[0;34m:\u001b[0m\u001b[0;34m\u001b[0m\u001b[0;34m\u001b[0m\u001b[0m\n",
      "\u001b[0;32m~/anaconda3/lib/python3.9/site-packages/pandas/core/frame.py\u001b[0m in \u001b[0;36m_set_item\u001b[0;34m(self, key, value)\u001b[0m\n\u001b[1;32m   3830\u001b[0m         \u001b[0mensure\u001b[0m \u001b[0mhomogeneity\u001b[0m\u001b[0;34m.\u001b[0m\u001b[0;34m\u001b[0m\u001b[0;34m\u001b[0m\u001b[0m\n\u001b[1;32m   3831\u001b[0m         \"\"\"\n\u001b[0;32m-> 3832\u001b[0;31m         \u001b[0mvalue\u001b[0m \u001b[0;34m=\u001b[0m \u001b[0mself\u001b[0m\u001b[0;34m.\u001b[0m\u001b[0m_sanitize_column\u001b[0m\u001b[0;34m(\u001b[0m\u001b[0mvalue\u001b[0m\u001b[0;34m)\u001b[0m\u001b[0;34m\u001b[0m\u001b[0;34m\u001b[0m\u001b[0m\n\u001b[0m\u001b[1;32m   3833\u001b[0m \u001b[0;34m\u001b[0m\u001b[0m\n\u001b[1;32m   3834\u001b[0m         if (\n",
      "\u001b[0;32m~/anaconda3/lib/python3.9/site-packages/pandas/core/frame.py\u001b[0m in \u001b[0;36m_sanitize_column\u001b[0;34m(self, value)\u001b[0m\n\u001b[1;32m   4533\u001b[0m         \u001b[0;31m# We can get there through loc single_block_path\u001b[0m\u001b[0;34m\u001b[0m\u001b[0;34m\u001b[0m\u001b[0m\n\u001b[1;32m   4534\u001b[0m         \u001b[0;32mif\u001b[0m \u001b[0misinstance\u001b[0m\u001b[0;34m(\u001b[0m\u001b[0mvalue\u001b[0m\u001b[0;34m,\u001b[0m \u001b[0;34m(\u001b[0m\u001b[0mDataFrame\u001b[0m\u001b[0;34m,\u001b[0m \u001b[0mSeries\u001b[0m\u001b[0;34m)\u001b[0m\u001b[0;34m)\u001b[0m\u001b[0;34m:\u001b[0m\u001b[0;34m\u001b[0m\u001b[0;34m\u001b[0m\u001b[0m\n\u001b[0;32m-> 4535\u001b[0;31m             \u001b[0;32mreturn\u001b[0m \u001b[0m_reindex_for_setitem\u001b[0m\u001b[0;34m(\u001b[0m\u001b[0mvalue\u001b[0m\u001b[0;34m,\u001b[0m \u001b[0mself\u001b[0m\u001b[0;34m.\u001b[0m\u001b[0mindex\u001b[0m\u001b[0;34m)\u001b[0m\u001b[0;34m\u001b[0m\u001b[0;34m\u001b[0m\u001b[0m\n\u001b[0m\u001b[1;32m   4536\u001b[0m \u001b[0;34m\u001b[0m\u001b[0m\n\u001b[1;32m   4537\u001b[0m         \u001b[0;32mif\u001b[0m \u001b[0mis_list_like\u001b[0m\u001b[0;34m(\u001b[0m\u001b[0mvalue\u001b[0m\u001b[0;34m)\u001b[0m\u001b[0;34m:\u001b[0m\u001b[0;34m\u001b[0m\u001b[0;34m\u001b[0m\u001b[0m\n",
      "\u001b[0;32m~/anaconda3/lib/python3.9/site-packages/pandas/core/frame.py\u001b[0m in \u001b[0;36m_reindex_for_setitem\u001b[0;34m(value, index)\u001b[0m\n\u001b[1;32m  11006\u001b[0m         \u001b[0;32mif\u001b[0m \u001b[0;32mnot\u001b[0m \u001b[0mvalue\u001b[0m\u001b[0;34m.\u001b[0m\u001b[0mindex\u001b[0m\u001b[0;34m.\u001b[0m\u001b[0mis_unique\u001b[0m\u001b[0;34m:\u001b[0m\u001b[0;34m\u001b[0m\u001b[0;34m\u001b[0m\u001b[0m\n\u001b[1;32m  11007\u001b[0m             \u001b[0;31m# duplicate axis\u001b[0m\u001b[0;34m\u001b[0m\u001b[0;34m\u001b[0m\u001b[0m\n\u001b[0;32m> 11008\u001b[0;31m             \u001b[0;32mraise\u001b[0m \u001b[0merr\u001b[0m\u001b[0;34m\u001b[0m\u001b[0;34m\u001b[0m\u001b[0m\n\u001b[0m\u001b[1;32m  11009\u001b[0m \u001b[0;34m\u001b[0m\u001b[0m\n\u001b[1;32m  11010\u001b[0m         raise TypeError(\n",
      "\u001b[0;32m~/anaconda3/lib/python3.9/site-packages/pandas/core/frame.py\u001b[0m in \u001b[0;36m_reindex_for_setitem\u001b[0;34m(value, index)\u001b[0m\n\u001b[1;32m  11001\u001b[0m     \u001b[0;31m# GH#4107\u001b[0m\u001b[0;34m\u001b[0m\u001b[0;34m\u001b[0m\u001b[0m\n\u001b[1;32m  11002\u001b[0m     \u001b[0;32mtry\u001b[0m\u001b[0;34m:\u001b[0m\u001b[0;34m\u001b[0m\u001b[0;34m\u001b[0m\u001b[0m\n\u001b[0;32m> 11003\u001b[0;31m         \u001b[0mreindexed_value\u001b[0m \u001b[0;34m=\u001b[0m \u001b[0mvalue\u001b[0m\u001b[0;34m.\u001b[0m\u001b[0mreindex\u001b[0m\u001b[0;34m(\u001b[0m\u001b[0mindex\u001b[0m\u001b[0;34m)\u001b[0m\u001b[0;34m.\u001b[0m\u001b[0m_values\u001b[0m\u001b[0;34m\u001b[0m\u001b[0;34m\u001b[0m\u001b[0m\n\u001b[0m\u001b[1;32m  11004\u001b[0m     \u001b[0;32mexcept\u001b[0m \u001b[0mValueError\u001b[0m \u001b[0;32mas\u001b[0m \u001b[0merr\u001b[0m\u001b[0;34m:\u001b[0m\u001b[0;34m\u001b[0m\u001b[0;34m\u001b[0m\u001b[0m\n\u001b[1;32m  11005\u001b[0m         \u001b[0;31m# raised in MultiIndex.from_tuples, see test_insert_error_msmgs\u001b[0m\u001b[0;34m\u001b[0m\u001b[0;34m\u001b[0m\u001b[0m\n",
      "\u001b[0;32m~/anaconda3/lib/python3.9/site-packages/pandas/core/series.py\u001b[0m in \u001b[0;36mreindex\u001b[0;34m(self, *args, **kwargs)\u001b[0m\n\u001b[1;32m   4670\u001b[0m                 )\n\u001b[1;32m   4671\u001b[0m             \u001b[0mkwargs\u001b[0m\u001b[0;34m.\u001b[0m\u001b[0mupdate\u001b[0m\u001b[0;34m(\u001b[0m\u001b[0;34m{\u001b[0m\u001b[0;34m\"index\"\u001b[0m\u001b[0;34m:\u001b[0m \u001b[0mindex\u001b[0m\u001b[0;34m}\u001b[0m\u001b[0;34m)\u001b[0m\u001b[0;34m\u001b[0m\u001b[0;34m\u001b[0m\u001b[0m\n\u001b[0;32m-> 4672\u001b[0;31m         \u001b[0;32mreturn\u001b[0m \u001b[0msuper\u001b[0m\u001b[0;34m(\u001b[0m\u001b[0;34m)\u001b[0m\u001b[0;34m.\u001b[0m\u001b[0mreindex\u001b[0m\u001b[0;34m(\u001b[0m\u001b[0;34m**\u001b[0m\u001b[0mkwargs\u001b[0m\u001b[0;34m)\u001b[0m\u001b[0;34m\u001b[0m\u001b[0;34m\u001b[0m\u001b[0m\n\u001b[0m\u001b[1;32m   4673\u001b[0m \u001b[0;34m\u001b[0m\u001b[0m\n\u001b[1;32m   4674\u001b[0m     \u001b[0;34m@\u001b[0m\u001b[0mdeprecate_nonkeyword_arguments\u001b[0m\u001b[0;34m(\u001b[0m\u001b[0mversion\u001b[0m\u001b[0;34m=\u001b[0m\u001b[0;32mNone\u001b[0m\u001b[0;34m,\u001b[0m \u001b[0mallowed_args\u001b[0m\u001b[0;34m=\u001b[0m\u001b[0;34m[\u001b[0m\u001b[0;34m\"self\"\u001b[0m\u001b[0;34m,\u001b[0m \u001b[0;34m\"labels\"\u001b[0m\u001b[0;34m]\u001b[0m\u001b[0;34m)\u001b[0m\u001b[0;34m\u001b[0m\u001b[0;34m\u001b[0m\u001b[0m\n",
      "\u001b[0;32m~/anaconda3/lib/python3.9/site-packages/pandas/core/generic.py\u001b[0m in \u001b[0;36mreindex\u001b[0;34m(self, *args, **kwargs)\u001b[0m\n\u001b[1;32m   4964\u001b[0m \u001b[0;34m\u001b[0m\u001b[0m\n\u001b[1;32m   4965\u001b[0m         \u001b[0;31m# perform the reindex on the axes\u001b[0m\u001b[0;34m\u001b[0m\u001b[0;34m\u001b[0m\u001b[0m\n\u001b[0;32m-> 4966\u001b[0;31m         return self._reindex_axes(\n\u001b[0m\u001b[1;32m   4967\u001b[0m             \u001b[0maxes\u001b[0m\u001b[0;34m,\u001b[0m \u001b[0mlevel\u001b[0m\u001b[0;34m,\u001b[0m \u001b[0mlimit\u001b[0m\u001b[0;34m,\u001b[0m \u001b[0mtolerance\u001b[0m\u001b[0;34m,\u001b[0m \u001b[0mmethod\u001b[0m\u001b[0;34m,\u001b[0m \u001b[0mfill_value\u001b[0m\u001b[0;34m,\u001b[0m \u001b[0mcopy\u001b[0m\u001b[0;34m\u001b[0m\u001b[0;34m\u001b[0m\u001b[0m\n\u001b[1;32m   4968\u001b[0m         ).__finalize__(self, method=\"reindex\")\n",
      "\u001b[0;32m~/anaconda3/lib/python3.9/site-packages/pandas/core/generic.py\u001b[0m in \u001b[0;36m_reindex_axes\u001b[0;34m(self, axes, level, limit, tolerance, method, fill_value, copy)\u001b[0m\n\u001b[1;32m   4984\u001b[0m \u001b[0;34m\u001b[0m\u001b[0m\n\u001b[1;32m   4985\u001b[0m             \u001b[0maxis\u001b[0m \u001b[0;34m=\u001b[0m \u001b[0mself\u001b[0m\u001b[0;34m.\u001b[0m\u001b[0m_get_axis_number\u001b[0m\u001b[0;34m(\u001b[0m\u001b[0ma\u001b[0m\u001b[0;34m)\u001b[0m\u001b[0;34m\u001b[0m\u001b[0;34m\u001b[0m\u001b[0m\n\u001b[0;32m-> 4986\u001b[0;31m             obj = obj._reindex_with_indexers(\n\u001b[0m\u001b[1;32m   4987\u001b[0m                 \u001b[0;34m{\u001b[0m\u001b[0maxis\u001b[0m\u001b[0;34m:\u001b[0m \u001b[0;34m[\u001b[0m\u001b[0mnew_index\u001b[0m\u001b[0;34m,\u001b[0m \u001b[0mindexer\u001b[0m\u001b[0;34m]\u001b[0m\u001b[0;34m}\u001b[0m\u001b[0;34m,\u001b[0m\u001b[0;34m\u001b[0m\u001b[0;34m\u001b[0m\u001b[0m\n\u001b[1;32m   4988\u001b[0m                 \u001b[0mfill_value\u001b[0m\u001b[0;34m=\u001b[0m\u001b[0mfill_value\u001b[0m\u001b[0;34m,\u001b[0m\u001b[0;34m\u001b[0m\u001b[0;34m\u001b[0m\u001b[0m\n",
      "\u001b[0;32m~/anaconda3/lib/python3.9/site-packages/pandas/core/generic.py\u001b[0m in \u001b[0;36m_reindex_with_indexers\u001b[0;34m(self, reindexers, fill_value, copy, allow_dups)\u001b[0m\n\u001b[1;32m   5030\u001b[0m \u001b[0;34m\u001b[0m\u001b[0m\n\u001b[1;32m   5031\u001b[0m             \u001b[0;31m# TODO: speed up on homogeneous DataFrame objects (see _reindex_multi)\u001b[0m\u001b[0;34m\u001b[0m\u001b[0;34m\u001b[0m\u001b[0m\n\u001b[0;32m-> 5032\u001b[0;31m             new_data = new_data.reindex_indexer(\n\u001b[0m\u001b[1;32m   5033\u001b[0m                 \u001b[0mindex\u001b[0m\u001b[0;34m,\u001b[0m\u001b[0;34m\u001b[0m\u001b[0;34m\u001b[0m\u001b[0m\n\u001b[1;32m   5034\u001b[0m                 \u001b[0mindexer\u001b[0m\u001b[0;34m,\u001b[0m\u001b[0;34m\u001b[0m\u001b[0;34m\u001b[0m\u001b[0m\n",
      "\u001b[0;32m~/anaconda3/lib/python3.9/site-packages/pandas/core/internals/managers.py\u001b[0m in \u001b[0;36mreindex_indexer\u001b[0;34m(self, new_axis, indexer, axis, fill_value, allow_dups, copy, consolidate, only_slice, use_na_proxy)\u001b[0m\n\u001b[1;32m    674\u001b[0m         \u001b[0;31m# some axes don't allow reindexing with dups\u001b[0m\u001b[0;34m\u001b[0m\u001b[0;34m\u001b[0m\u001b[0m\n\u001b[1;32m    675\u001b[0m         \u001b[0;32mif\u001b[0m \u001b[0;32mnot\u001b[0m \u001b[0mallow_dups\u001b[0m\u001b[0;34m:\u001b[0m\u001b[0;34m\u001b[0m\u001b[0;34m\u001b[0m\u001b[0m\n\u001b[0;32m--> 676\u001b[0;31m             \u001b[0mself\u001b[0m\u001b[0;34m.\u001b[0m\u001b[0maxes\u001b[0m\u001b[0;34m[\u001b[0m\u001b[0maxis\u001b[0m\u001b[0;34m]\u001b[0m\u001b[0;34m.\u001b[0m\u001b[0m_validate_can_reindex\u001b[0m\u001b[0;34m(\u001b[0m\u001b[0mindexer\u001b[0m\u001b[0;34m)\u001b[0m\u001b[0;34m\u001b[0m\u001b[0;34m\u001b[0m\u001b[0m\n\u001b[0m\u001b[1;32m    677\u001b[0m \u001b[0;34m\u001b[0m\u001b[0m\n\u001b[1;32m    678\u001b[0m         \u001b[0;32mif\u001b[0m \u001b[0maxis\u001b[0m \u001b[0;34m>=\u001b[0m \u001b[0mself\u001b[0m\u001b[0;34m.\u001b[0m\u001b[0mndim\u001b[0m\u001b[0;34m:\u001b[0m\u001b[0;34m\u001b[0m\u001b[0;34m\u001b[0m\u001b[0m\n",
      "\u001b[0;32m~/anaconda3/lib/python3.9/site-packages/pandas/core/indexes/base.py\u001b[0m in \u001b[0;36m_validate_can_reindex\u001b[0;34m(self, indexer)\u001b[0m\n\u001b[1;32m   4119\u001b[0m         \u001b[0;31m# trying to reindex on an axis with duplicates\u001b[0m\u001b[0;34m\u001b[0m\u001b[0;34m\u001b[0m\u001b[0m\n\u001b[1;32m   4120\u001b[0m         \u001b[0;32mif\u001b[0m \u001b[0;32mnot\u001b[0m \u001b[0mself\u001b[0m\u001b[0;34m.\u001b[0m\u001b[0m_index_as_unique\u001b[0m \u001b[0;32mand\u001b[0m \u001b[0mlen\u001b[0m\u001b[0;34m(\u001b[0m\u001b[0mindexer\u001b[0m\u001b[0;34m)\u001b[0m\u001b[0;34m:\u001b[0m\u001b[0;34m\u001b[0m\u001b[0;34m\u001b[0m\u001b[0m\n\u001b[0;32m-> 4121\u001b[0;31m             \u001b[0;32mraise\u001b[0m \u001b[0mValueError\u001b[0m\u001b[0;34m(\u001b[0m\u001b[0;34m\"cannot reindex on an axis with duplicate labels\"\u001b[0m\u001b[0;34m)\u001b[0m\u001b[0;34m\u001b[0m\u001b[0;34m\u001b[0m\u001b[0m\n\u001b[0m\u001b[1;32m   4122\u001b[0m \u001b[0;34m\u001b[0m\u001b[0m\n\u001b[1;32m   4123\u001b[0m     def reindex(\n",
      "\u001b[0;31mValueError\u001b[0m: cannot reindex on an axis with duplicate labels"
     ]
    }
   ],
   "source": [
    "core_weather[\"monthly_avg\"] = core_weather[\"temp_max\"].groupby(core_weather.index.month).apply(lambda x: x.expanding(1).mean())\n",
    "#what the function in apply() does is just take the previous rows and calculates the mean\n",
    "#this is to make sure that we're using past data to predict, not using future knowledge"
   ]
  },
  {
   "cell_type": "code",
   "execution_count": null,
   "id": "87fcf209-1a43-461a-a83e-5d135caae89f",
   "metadata": {},
   "outputs": [],
   "source": []
  }
 ],
 "metadata": {
  "kernelspec": {
   "display_name": "Python 3 (ipykernel)",
   "language": "python",
   "name": "python3"
  },
  "language_info": {
   "codemirror_mode": {
    "name": "ipython",
    "version": 3
   },
   "file_extension": ".py",
   "mimetype": "text/x-python",
   "name": "python",
   "nbconvert_exporter": "python",
   "pygments_lexer": "ipython3",
   "version": "3.9.13"
  }
 },
 "nbformat": 4,
 "nbformat_minor": 5
}
